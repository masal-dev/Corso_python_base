{
 "cells": [
  {
   "cell_type": "markdown",
   "metadata": {},
   "source": [
    "# Lavorare con i file\n",
    "Per lavorare con i file in python possiamo usare la funzione built-in open\n"
   ]
  },
  {
   "cell_type": "code",
   "execution_count": 11,
   "metadata": {},
   "outputs": [],
   "source": [
    "file_nuovo = open(\"./file_generato.txt\", 'w')"
   ]
  },
  {
   "cell_type": "markdown",
   "metadata": {},
   "source": [
    "apre un file che sta nella cartella in cui mi trovo e si chiama file generato.\n",
    "\n",
    "Se il file non esiste viene generato e aperto per scrittura\n",
    "il secondo argomento è la modalità di apertura w sta per scrittura (write)\n"
   ]
  },
  {
   "cell_type": "code",
   "execution_count": 12,
   "metadata": {},
   "outputs": [
    {
     "data": {
      "text/plain": [
       "12"
      ]
     },
     "execution_count": 12,
     "metadata": {},
     "output_type": "execute_result"
    }
   ],
   "source": [
    "file_nuovo.write(\"Hello World!\")"
   ]
  },
  {
   "cell_type": "markdown",
   "metadata": {},
   "source": [
    "scrive una stringa nel file per evitare errori è indispensabile chiudere il file una volta compiute le operazioni.\n"
   ]
  },
  {
   "cell_type": "code",
   "execution_count": 13,
   "metadata": {},
   "outputs": [],
   "source": [
    "file_nuovo.close()"
   ]
  },
  {
   "cell_type": "markdown",
   "metadata": {},
   "source": [
    "Possiamo usare i file anche nelle nostre funzioni, un esempio di una funzione che legge un file:"
   ]
  },
  {
   "cell_type": "code",
   "execution_count": 14,
   "metadata": {},
   "outputs": [],
   "source": [
    "def leggi_file(nome_file):\n",
    "    ''' Apre il file (se esiste) e fa il print del contenuto \n",
    "    se il file non esiste stampa un errore\n",
    "\n",
    "    :param nome_file: percorso del file nel sistema \n",
    "    '''\n",
    "    f = open(nome_file, 'r')\n",
    "    print(\"contenuto file:\\n\", f.read())\n",
    "    f.close()\n",
    "\n"
   ]
  },
  {
   "cell_type": "markdown",
   "metadata": {},
   "source": [
    "In questo caso ho utilizzato il flag `'r'` che mi permette solo di leggere, così non rischio di apportare modifiche al file.\n",
    "\n",
    "Però se il file non esiste non viene creato ma viene lanciato un errore"
   ]
  },
  {
   "cell_type": "code",
   "execution_count": 15,
   "metadata": {},
   "outputs": [
    {
     "ename": "FileNotFoundError",
     "evalue": "[Errno 2] No such file or directory: 'File_che_non_esiste'",
     "output_type": "error",
     "traceback": [
      "\u001b[0;31m---------------------------------------------------------------------------\u001b[0m",
      "\u001b[0;31mFileNotFoundError\u001b[0m                         Traceback (most recent call last)",
      "Cell \u001b[0;32mIn [15], line 1\u001b[0m\n\u001b[0;32m----> 1\u001b[0m \u001b[43mleggi_file\u001b[49m\u001b[43m(\u001b[49m\u001b[38;5;124;43m\"\u001b[39;49m\u001b[38;5;124;43mFile_che_non_esiste\u001b[39;49m\u001b[38;5;124;43m\"\u001b[39;49m\u001b[43m)\u001b[49m\n",
      "Cell \u001b[0;32mIn [14], line 7\u001b[0m, in \u001b[0;36mleggi_file\u001b[0;34m(nome_file)\u001b[0m\n\u001b[1;32m      1\u001b[0m \u001b[38;5;28;01mdef\u001b[39;00m \u001b[38;5;21mleggi_file\u001b[39m(nome_file):\n\u001b[1;32m      2\u001b[0m     \u001b[38;5;124;03m''' Apre il file (se esiste) e fa il print del contenuto \u001b[39;00m\n\u001b[1;32m      3\u001b[0m \u001b[38;5;124;03m    se il file non esiste stampa un errore\u001b[39;00m\n\u001b[1;32m      4\u001b[0m \n\u001b[1;32m      5\u001b[0m \u001b[38;5;124;03m    :param nome_file: percorso del file nel sistema \u001b[39;00m\n\u001b[1;32m      6\u001b[0m \u001b[38;5;124;03m    '''\u001b[39;00m\n\u001b[0;32m----> 7\u001b[0m     f \u001b[38;5;241m=\u001b[39m \u001b[38;5;28;43mopen\u001b[39;49m\u001b[43m(\u001b[49m\u001b[43mnome_file\u001b[49m\u001b[43m,\u001b[49m\u001b[43m \u001b[49m\u001b[38;5;124;43m'\u001b[39;49m\u001b[38;5;124;43mr\u001b[39;49m\u001b[38;5;124;43m'\u001b[39;49m\u001b[43m)\u001b[49m\n\u001b[1;32m      8\u001b[0m     \u001b[38;5;28mprint\u001b[39m(\u001b[38;5;124m\"\u001b[39m\u001b[38;5;124mcontenuto file:\u001b[39m\u001b[38;5;130;01m\\n\u001b[39;00m\u001b[38;5;124m\"\u001b[39m, f\u001b[38;5;241m.\u001b[39mread())\n\u001b[1;32m      9\u001b[0m     f\u001b[38;5;241m.\u001b[39mclose()\n",
      "File \u001b[0;32m~/.local/lib/python3.10/site-packages/IPython/core/interactiveshell.py:282\u001b[0m, in \u001b[0;36m_modified_open\u001b[0;34m(file, *args, **kwargs)\u001b[0m\n\u001b[1;32m    275\u001b[0m \u001b[38;5;28;01mif\u001b[39;00m file \u001b[38;5;129;01min\u001b[39;00m {\u001b[38;5;241m0\u001b[39m, \u001b[38;5;241m1\u001b[39m, \u001b[38;5;241m2\u001b[39m}:\n\u001b[1;32m    276\u001b[0m     \u001b[38;5;28;01mraise\u001b[39;00m \u001b[38;5;167;01mValueError\u001b[39;00m(\n\u001b[1;32m    277\u001b[0m         \u001b[38;5;124mf\u001b[39m\u001b[38;5;124m\"\u001b[39m\u001b[38;5;124mIPython won\u001b[39m\u001b[38;5;124m'\u001b[39m\u001b[38;5;124mt let you open fd=\u001b[39m\u001b[38;5;132;01m{\u001b[39;00mfile\u001b[38;5;132;01m}\u001b[39;00m\u001b[38;5;124m by default \u001b[39m\u001b[38;5;124m\"\u001b[39m\n\u001b[1;32m    278\u001b[0m         \u001b[38;5;124m\"\u001b[39m\u001b[38;5;124mas it is likely to crash IPython. If you know what you are doing, \u001b[39m\u001b[38;5;124m\"\u001b[39m\n\u001b[1;32m    279\u001b[0m         \u001b[38;5;124m\"\u001b[39m\u001b[38;5;124myou can use builtins\u001b[39m\u001b[38;5;124m'\u001b[39m\u001b[38;5;124m open.\u001b[39m\u001b[38;5;124m\"\u001b[39m\n\u001b[1;32m    280\u001b[0m     )\n\u001b[0;32m--> 282\u001b[0m \u001b[38;5;28;01mreturn\u001b[39;00m \u001b[43mio_open\u001b[49m\u001b[43m(\u001b[49m\u001b[43mfile\u001b[49m\u001b[43m,\u001b[49m\u001b[43m \u001b[49m\u001b[38;5;241;43m*\u001b[39;49m\u001b[43margs\u001b[49m\u001b[43m,\u001b[49m\u001b[43m \u001b[49m\u001b[38;5;241;43m*\u001b[39;49m\u001b[38;5;241;43m*\u001b[39;49m\u001b[43mkwargs\u001b[49m\u001b[43m)\u001b[49m\n",
      "\u001b[0;31mFileNotFoundError\u001b[0m: [Errno 2] No such file or directory: 'File_che_non_esiste'"
     ]
    }
   ],
   "source": [
    "leggi_file(\"File_che_non_esiste\")"
   ]
  },
  {
   "cell_type": "markdown",
   "metadata": {},
   "source": [
    "Gestione errori:"
   ]
  },
  {
   "cell_type": "code",
   "execution_count": 17,
   "metadata": {},
   "outputs": [
    {
     "name": "stdout",
     "output_type": "stream",
     "text": [
      "contenuto file:\n",
      " \n"
     ]
    }
   ],
   "source": [
    "try:\n",
    "    leggi_file(\"test\")\n",
    "except FileNotFoundError as err:\n",
    "    print(\"Il file non esiste, creiamolo:\\n\")\n",
    "    file_creato = open(\"test\", 'w')\n",
    "    file_creato.close()\n",
    "    leggi_file(\"test\")"
   ]
  },
  {
   "cell_type": "markdown",
   "metadata": {},
   "source": [
    "**N.B.**\n",
    "\n",
    " Per evitare problemi nella scrittura e la possibilità che i file vengano \n",
    "corrotti, bisongna SEMPRE chiudere il file con il metodo close. \n",
    "Si può usare lo statement with che gestisce l'apertura e la chiusura dello stream del file\n",
    "Esempio:"
   ]
  },
  {
   "cell_type": "code",
   "execution_count": 19,
   "metadata": {},
   "outputs": [
    {
     "name": "stdout",
     "output_type": "stream",
     "text": [
      "contenuto file:\n",
      " Hello World!\n",
      "siamo fuori dallo scope del with quindi la variabile non esiste più esiste però <_io.TextIOWrapper name='./file_generato.txt' mode='r' encoding='UTF-8'>\n"
     ]
    }
   ],
   "source": [
    "\n",
    "with open(\"./file_generato.txt\", 'r') as file_txt:\n",
    "    print(\"contenuto file:\\n\", file_txt.read())\n",
    "\n",
    "# qui la variabile file_txt non esiste più \n",
    "try:\n",
    "    print(\"il file contiene\", file_txt.read())\n",
    "except: \n",
    "    print(f\"siamo fuori dallo scope del with quindi la variabile non esiste più\")\n",
    "\n"
   ]
  },
  {
   "cell_type": "markdown",
   "metadata": {},
   "source": [
    "**Ovviamente nelle funzioni è consigliabile utilizzare with**"
   ]
  },
  {
   "cell_type": "code",
   "execution_count": null,
   "metadata": {},
   "outputs": [],
   "source": [
    "\n",
    "def scrive_legge_file(nome_file, contenuto_da_aggiungere):\n",
    "    '''apre file per aggiungere la stringa con il flag 'a' per append\n",
    "    scrive la stringa del contenuto_da_aggiungere'''\n",
    "    with open(nome_file, 'a') as file_aperto:\n",
    "        file_aperto.write(contenuto_da_aggiungere)\n",
    "\n",
    "    # print del contenuto del file\n",
    "    with open(nome_file, 'r') as leggere_file:\n",
    "        print(\"Contenuto File:\", leggere_file.read())\n",
    "\n",
    "scrive_legge_file(\"risorse/file_generato.txt\", \"Lorem Ipsum\")\n"
   ]
  }
 ],
 "metadata": {
  "kernelspec": {
   "display_name": "Python 3",
   "language": "python",
   "name": "python3"
  },
  "language_info": {
   "codemirror_mode": {
    "name": "ipython",
    "version": 3
   },
   "file_extension": ".py",
   "mimetype": "text/x-python",
   "name": "python",
   "nbconvert_exporter": "python",
   "pygments_lexer": "ipython3",
   "version": "3.10.12"
  }
 },
 "nbformat": 4,
 "nbformat_minor": 2
}
