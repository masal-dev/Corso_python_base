{
 "cells": [
  {
   "cell_type": "markdown",
   "metadata": {},
   "source": [
    "# Database con Sqlite3"
   ]
  },
  {
   "cell_type": "code",
   "execution_count": 1,
   "metadata": {},
   "outputs": [],
   "source": [
    "import sqlite3"
   ]
  },
  {
   "cell_type": "markdown",
   "metadata": {},
   "source": [
    "### Sqlite\n",
    "\n",
    "Si tratta di un formato di database molto usato per applicazioni di dimensioni contenute e che devono essere utilizzati con risorse hardware limitate\n",
    "\n",
    "Il database viene creato in un file ed è un formato molto semplificato per gestire e immagazinare dati.\n",
    "\n"
   ]
  },
  {
   "cell_type": "markdown",
   "metadata": {},
   "source": [
    "### Utilizzo\n",
    "\n",
    "Per utilizzare un DB sqlite con la libreria `sqlite3` abbiamo bisogno di un oggetto connessione al db e da questo oggetto connessione abbiamo bisogno di istanziare un oggetto cursore.\n",
    "\n",
    "- L'oggetto connessione ci collega al file del db\n",
    "- l'oggetto cursore ci permette di operare sul db (usando il linguaggio sql [specifiche qui](https://www.sqlite.org/schematab.html))"
   ]
  },
  {
   "cell_type": "code",
   "execution_count": 6,
   "metadata": {},
   "outputs": [],
   "source": [
    "conn = sqlite3.connect(\"test_automobili.sqlite\")\n",
    "\n",
    "cursore = conn.cursor()\n",
    "\n",
    "cursore.execute(\"\"\"CREATE TABLE veicoli (\n",
    "                alias text,\n",
    "                marca text,\n",
    "                modello text,\n",
    "                km integer)\"\"\")\n",
    "\n"
   ]
  },
  {
   "cell_type": "code",
   "execution_count": 17,
   "metadata": {},
   "outputs": [
    {
     "data": {
      "text/plain": [
       "('veicoli',)"
      ]
     },
     "execution_count": 17,
     "metadata": {},
     "output_type": "execute_result"
    }
   ],
   "source": [
    "# cursore.execute(\"SELECT name FROM sqlite_master\").fetchall()\n",
    "cursore.execute(\"SELECT name FROM sqlite_master\").fetchone()\n"
   ]
  },
  {
   "cell_type": "markdown",
   "metadata": {},
   "source": [
    "### Eseguire quindi usare i dati\n",
    "\n",
    "Una volta mandato in esecuzione il comando (la query) ottengo un oggetto cursore che punta ai dati che mi interessano. Per poterli utilizzare devo invocare un metodo metodo ad esempio `fetchone()` oppure `fetchall()`"
   ]
  },
  {
   "cell_type": "markdown",
   "metadata": {},
   "source": [
    "### INSERT\n",
    "\n",
    "Per inserire correttamente dobbiamo ricordarci di eseguire il `commit()` alla fine dello script di immissione. Commit è il comando per andare a modificare il db, prima del commit le modifiche rimangono solo a livello di istruzioni da eseguire.\n"
   ]
  },
  {
   "cell_type": "code",
   "execution_count": 20,
   "metadata": {},
   "outputs": [],
   "source": [
    "cursore.execute(\"INSERT INTO veicoli (alias, marca, modello, km) VALUES ('mia_macchina', 'opel', 'astra', 128223)\")\n",
    "conn.commit()"
   ]
  },
  {
   "cell_type": "code",
   "execution_count": 24,
   "metadata": {},
   "outputs": [],
   "source": [
    "veicoli = [\n",
    "    ('papà', 'ford', 'b-max', 456122),\n",
    "    ('furga', 'VW', 'caddy', 189341),\n",
    "    ('old', 'fiat', 'punto', 213865),\n",
    "]\n",
    "\n",
    "cursore.executemany(\"INSERT INTO veicoli VALUES(?, ?, ?, ?);\", veicoli)\n",
    "conn.commit()"
   ]
  },
  {
   "cell_type": "code",
   "execution_count": 31,
   "metadata": {},
   "outputs": [
    {
     "data": {
      "text/plain": [
       "[('table',\n",
       "  'veicoli',\n",
       "  'veicoli',\n",
       "  2,\n",
       "  'CREATE TABLE veicoli (\\n                alias text,\\n                marca text,\\n                modello text,\\n                km integer      \\n)')]"
      ]
     },
     "execution_count": 31,
     "metadata": {},
     "output_type": "execute_result"
    }
   ],
   "source": [
    "tutti_veicoli = cursore.execute(\"SELECT * FROM veicoli\")\n",
    "tutti_veicoli.fetchall()\n",
    "\n",
    "schema = cursore.execute(\"SELECT * FROM sqlite_master\")\n",
    "schema.fetchall()"
   ]
  },
  {
   "cell_type": "markdown",
   "metadata": {},
   "source": [
    "### Blocco `with`\n",
    "\n",
    "Vista la struttura del codice che ci serve, si tratta di un caso in cui è utile utilizzare il blocco with per la connessione"
   ]
  },
  {
   "cell_type": "code",
   "execution_count": 32,
   "metadata": {},
   "outputs": [],
   "source": [
    "with sqlite3.connect(\"nuovo_db.sqlite\") as mio_db:\n",
    "    cursore = mio_db.cursor()"
   ]
  }
 ],
 "metadata": {
  "kernelspec": {
   "display_name": "Python 3",
   "language": "python",
   "name": "python3"
  },
  "language_info": {
   "codemirror_mode": {
    "name": "ipython",
    "version": 3
   },
   "file_extension": ".py",
   "mimetype": "text/x-python",
   "name": "python",
   "nbconvert_exporter": "python",
   "pygments_lexer": "ipython3",
   "version": "3.10.12"
  }
 },
 "nbformat": 4,
 "nbformat_minor": 2
}
