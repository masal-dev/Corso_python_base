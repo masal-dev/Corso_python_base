{
 "cells": [
  {
   "cell_type": "markdown",
   "metadata": {},
   "source": [
    "# [Streamlit](https://docs.streamlit.io/get-started)\n",
    "\n",
    "Si tratta di una libreria di python che permette di creare una semplice interfaccia web per testare servizi tipo API, o comunque applicazioni scritte in python che richiedono un'interfaccia più articolata della semplice iterazione da terminale\n",
    "\n",
    "Il vantaggio è che, senza perdere troppo tempo si possono creare semplice pagine web in grado di interagire direttamente con il programma in python. Inoltre è possibile [pubblicare l'applicazione](https://docs.streamlit.io/deploy) in modo da poterla mostrare come prototipo (proof of concept).\n",
    "\n",
    "\n",
    "Si installa con il comando \n",
    "\n",
    "`pip install streamlit`\n",
    "\n",
    "viene solitamente importata l'intera libreria con l'alias `st`"
   ]
  },
  {
   "cell_type": "code",
   "execution_count": null,
   "metadata": {},
   "outputs": [],
   "source": [
    "import streamlit as st\n",
    "\n",
    "\n",
    "def main():\n",
    "    st.text(\"Hello World!\")\n",
    "\n",
    "if __name__ == '__main__':\n",
    "    main()"
   ]
  },
  {
   "cell_type": "markdown",
   "metadata": {},
   "source": [
    "Una volta importata possiamo iniziare a richiamare gli elementi della libreria (vedi [documentazione](https://docs.streamlit.io/develop/api-reference))"
   ]
  },
  {
   "cell_type": "markdown",
   "metadata": {},
   "source": [
    "### Funzionalità \n",
    "\n",
    "Tra le varie cose che si possono fare è possibile anche creare un sito con diverse pagine creando un file python per ogni pagina. Questo è molto utile per mostrare diverse parti di un programma o diversi endpoint di un servizio API.\n",
    "[Documentazione multipage](https://docs.streamlit.io/develop/tutorials/multipage/st.page_link-nav)"
   ]
  }
 ],
 "metadata": {
  "language_info": {
   "name": "python"
  }
 },
 "nbformat": 4,
 "nbformat_minor": 2
}
