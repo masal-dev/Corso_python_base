{
 "cells": [
  {
   "cell_type": "code",
   "execution_count": 3,
   "metadata": {},
   "outputs": [
    {
     "name": "stdout",
     "output_type": "stream",
     "text": [
      "16\n"
     ]
    }
   ],
   "source": [
    "\n",
    "def funzione_moltiplicazione(num, fattore=2):\n",
    "    '''moltiplica il num per il fattore\n",
    "    passando un solo argomento, moltiplica per 2\n",
    "    '''\n",
    "    print(num * fattore)\n",
    "\n",
    "funzione_moltiplicazione(8)"
   ]
  },
  {
   "cell_type": "code",
   "execution_count": 25,
   "metadata": {},
   "outputs": [
    {
     "name": "stdout",
     "output_type": "stream",
     "text": [
      "Ciao vez!\n",
      "Ciao vez!\n",
      "Ciao vez!\n",
      "\n"
     ]
    }
   ],
   "source": [
    "\n",
    "def mando_saluti(saluto: str, ripetuto: int) -> str:\n",
    "   risultato: str = (saluto.capitalize() +\"\\n\") * ripetuto\n",
    "   return risultato\n",
    "\n",
    "print(mando_saluti(\"ciao vez!\", 3))\n"
   ]
  },
  {
   "cell_type": "code",
   "execution_count": 35,
   "metadata": {},
   "outputs": [
    {
     "name": "stdout",
     "output_type": "stream",
     "text": [
      "8 per 0 fa 0\n",
      "8 per 1 fa 8\n",
      "8 per 2 fa 16\n",
      "8 per 3 fa 24\n",
      "8 per 4 fa 32\n",
      "8 per 5 fa 40\n",
      "8 per 6 fa 48\n",
      "8 per 7 fa 56\n",
      "8 per 8 fa 64\n",
      "8 per 9 fa 72\n",
      "8 per 10 fa 80\n"
     ]
    },
    {
     "data": {
      "text/plain": [
       "5"
      ]
     },
     "execution_count": 35,
     "metadata": {},
     "output_type": "execute_result"
    }
   ],
   "source": [
    "def tabellina_ricorsiva(tab_del: int, indice: int=0):\n",
    "    if indice <= 10:\n",
    "        print(f\"{tab_del} per {indice} fa {tab_del * indice}\")\n",
    "        tabellina_ricorsiva(tab_del, indice + 1)\n",
    "tabellina_ricorsiva(8)\n",
    "\n"
   ]
  },
  {
   "cell_type": "code",
   "execution_count": 41,
   "metadata": {},
   "outputs": [
    {
     "name": "stdout",
     "output_type": "stream",
     "text": [
      "rec 6\n",
      "iter 6\n"
     ]
    }
   ],
   "source": [
    "def somma_num_rec(fino_a:int) -> int:\n",
    "    if fino_a >= 1:\n",
    "        output = fino_a + somma_num_rec(fino_a - 1)\n",
    "        return output\n",
    "    else:\n",
    "        return fino_a\n",
    "\n",
    "print(\"rec\", somma_num_rec(3))\n",
    "\n",
    "def somma_num_iter(fino_a:int) -> int:\n",
    "    tot = 0\n",
    "    while fino_a >= 0:\n",
    "        tot += fino_a\n",
    "        fino_a -= 1\n",
    "    return tot\n",
    "\n",
    "print(\"iter\", somma_num_iter(3))"
   ]
  },
  {
   "cell_type": "code",
   "execution_count": 42,
   "metadata": {},
   "outputs": [
    {
     "data": {
      "text/plain": [
       "21"
      ]
     },
     "execution_count": 42,
     "metadata": {},
     "output_type": "execute_result"
    }
   ],
   "source": [
    "# Recursive function\n",
    "def recursive_fibonacci(n):\n",
    "  if n <= 1:\n",
    "      return n\n",
    "  else:\n",
    "      return(recursive_fibonacci(n-1) + recursive_fibonacci(n-2))\n",
    "\n",
    "recursive_fibonacci(8)"
   ]
  },
  {
   "cell_type": "code",
   "execution_count": 4,
   "metadata": {},
   "outputs": [
    {
     "name": "stdout",
     "output_type": "stream",
     "text": [
      "(1, 2, 3, 4, 5, 6, 7, 8, 9, 0)\n"
     ]
    }
   ],
   "source": [
    "def f_args(*args):\n",
    "    print(args)\n",
    "\n",
    "f_args(1,2,3,4,5,6,7,8,9,0)"
   ]
  },
  {
   "cell_type": "code",
   "execution_count": 16,
   "metadata": {},
   "outputs": [
    {
     "name": "stdout",
     "output_type": "stream",
     "text": [
      "{'automobile': 'Astra', 'anno': '2004', 'tagliando': 120000}\n",
      "Fare il tagliando a 120000 km\n"
     ]
    }
   ],
   "source": [
    "def f_kw_args(**kwargs):\n",
    "    print(kwargs)\n",
    "    for k in kwargs.keys():\n",
    "        if k == \"tagliando\":\n",
    "            km = kwargs[\"tagliando\"]\n",
    "            print(f\"Fare il tagliando a {km} km\")\n",
    "         \n",
    "f_kw_args(automobile=\"Astra\", anno=\"2004\", tagliando=120_000)"
   ]
  }
 ],
 "metadata": {
  "kernelspec": {
   "display_name": "Python 3",
   "language": "python",
   "name": "python3"
  },
  "language_info": {
   "codemirror_mode": {
    "name": "ipython",
    "version": 3
   },
   "file_extension": ".py",
   "mimetype": "text/x-python",
   "name": "python",
   "nbconvert_exporter": "python",
   "pygments_lexer": "ipython3",
   "version": "3.10.12"
  }
 },
 "nbformat": 4,
 "nbformat_minor": 2
}
