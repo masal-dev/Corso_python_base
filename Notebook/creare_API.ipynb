{
 "cells": [
  {
   "cell_type": "markdown",
   "metadata": {},
   "source": [
    "# Creazione di Application Programming Interface\n",
    "\n",
    "La libreria più potente e veloce per predisporre API con python è [FastAPI](https://fastapi.tiangolo.com/tutorial/)"
   ]
  },
  {
   "cell_type": "markdown",
   "metadata": {},
   "source": [
    "## Installazione \n",
    "\n",
    "FastAPI in realtà utilizza un insieme di funzionalità di altre librerie e si appoggia a un server per creare una vera e propria API con la quale possiamo interagire.\n",
    "\n",
    "In questo senso FastAPI è più simile ad un framework che a una semplice libreria, in quanto porta con sè un ambiente in cui far girare l'applicazione come servizio API\n",
    "\n",
    "Per l'installazione è sufficiente il comando:\n",
    "\n",
    "`pip install fastapi`\n",
    "\n",
    "Meglio se lanciato nell'ambiente venv in cui andremo a utilizzarlo."
   ]
  },
  {
   "cell_type": "markdown",
   "metadata": {},
   "source": [
    "## Esempio Minimo\n",
    "\n",
    "Hello World in verison fastAPI è rappresentato dalle 5 righe di codice sotto.\n",
    "\n",
    "Da notare:\n",
    "- `app` è un'oggetto di tipo `FastAPI` \n",
    "- si utilizza il decoratore per definire la chiamata\n",
    "- il decoratore prende un argomento che è l'endpoint della chiamata. Posso così definire diversi endpoint.\n",
    "- la definizione di funzione è preceduta da un `async` \n",
    "- "
   ]
  },
  {
   "cell_type": "code",
   "execution_count": 3,
   "metadata": {},
   "outputs": [],
   "source": [
    "from fastapi import FastAPI\n",
    "\n",
    "app = FastAPI()\n",
    "\n",
    "@app.get(\"/\")\n",
    "async def root():\n",
    "    return {\"message\": \"Hello World\"}\n"
   ]
  },
  {
   "cell_type": "markdown",
   "metadata": {},
   "source": [
    "## Eseguire il codice \n",
    "\n",
    "il codice sopra può essere eseguito (una volta installato fastapi) con il comando \n",
    "\n",
    "`fastapi run nome_file.py`\n",
    "\n",
    "questo lancerà lo script contenuto in `nome_file.py` con un server uvicorn che sarà in grado di interfacciarsi ad un particolare indirizzo ip (locale) sulla porta indicata (di default si trova in [http://0.0.0.0:8000 ](http://0.0.0.0:8000) )\n",
    "\n",
    "L'output a teminale sarà simile a questo:"
   ]
  },
  {
   "cell_type": "markdown",
   "metadata": {},
   "source": [
    "<pre>\n",
    "INFO     Using path fastapi_main.py                                                                                                                                                                                \n",
    "INFO     Resolved absolute path /home/pg/coding/Corso_python_base/Esempi/fastapi_main.py                                                                                                                           \n",
    "INFO     Searching for package file structure from directories with __init__.py files                                                                                                                              \n",
    "INFO     Importing from /home/pg/coding/Corso_python_base                                                                                                                                                          \n",
    "                                                                                                                                                                                                                   \n",
    " ╭─ Python package file structure ─╮                                                                                                                                                                               \n",
    " │                                 │                                                                                                                                                                               \n",
    " │  📁 Esempi                      │                                                                                                                                                                               \n",
    " │  ├── 🐍 __init__.py             │                                                                                                                                                                               \n",
    " │  └── 🐍 fastapi_main.py         │                                                                                                                                                                               \n",
    " │                                 │                                                                                                                                                                               \n",
    " ╰─────────────────────────────────╯                                                                                                                                                                               \n",
    "                                                                                                                                                                                                                   \n",
    "INFO     Importing module Esempi.fastapi_main                                                                                                                                                                      \n",
    "INFO     Found importable FastAPI app                                                                                                                                                                              \n",
    "                                                                                                                                                                                                                   \n",
    " ╭─────── Importable FastAPI app ────────╮                                                                                                                                                                         \n",
    " │                                       │                                                                                                                                                                         \n",
    " │  from Esempi.fastapi_main import app  │                                                                                                                                                                         \n",
    " │                                       │                                                                                                                                                                         \n",
    " ╰───────────────────────────────────────╯                                                                                                                                                                         \n",
    "                                                                                                                                                                                                                   \n",
    "INFO     Using import string Esempi.fastapi_main:app                                                                                                                                                               \n",
    "                                                                                                                                                                                                                   \n",
    " ╭─────────── FastAPI CLI - Production mode ───────────╮                                                                                                                                                           \n",
    " │                                                     │                                                                                                                                                           \n",
    " │  Serving at: http://0.0.0.0:8000                    │                                                                                                                                                           \n",
    " │                                                     │                                                                                                                                                           \n",
    " │  API docs: http://0.0.0.0:8000/docs                 │                                                                                                                                                           \n",
    " │                                                     │                                                                                                                                                           \n",
    " │  Running in production mode, for development use:   │                                                                                                                                                           \n",
    " │                                                     │                                                                                                                                                           \n",
    " │  fastapi dev                                        │                                                                                                                                                           \n",
    " │                                                     │                                                                                                                                                           \n",
    " ╰─────────────────────────────────────────────────────╯                                                                                                                                                           \n",
    "                                                                                                                                                                                                                   \n",
    "INFO:     Started server process [26360]\n",
    "INFO:     Waiting for application startup.\n",
    "INFO:     Application startup complete.\n",
    "INFO:     Uvicorn running on http://0.0.0.0:8000 (Press CTRL+C to quit)\n",
    "</pre>"
   ]
  },
  {
   "cell_type": "markdown",
   "metadata": {},
   "source": [
    "## dev\n",
    "\n",
    "Possiamo lanciare lo stesso file in modalità sviluppo **dev** che lancia lo stesso server con due principali differenze:\n",
    "- Il server viene rilanciato ogni volta che il file dello script viene modificato\n",
    "- L'indirizzo in cui il server è in ascolto diventa http:/127.0.0.1:8000 ovvero localhost alla porta 8000\n",
    "\n",
    "L'indirizzo 0.0.0.0 rappresenta tutti gli ip della macchina, mentre il 127.0.0.1 è rappresenta l'ip della macchina stessa ed è utilizzato solo per la fase di sviluppo.\n",
    "Riavviare il servizio ogni volta che abbiamo un aggiornamento del codice sorgente potrebbe sembrare una buona idea in generale, tuttavia in fase di produzione rende il servizio più instabile e soggetto a chiusura e blocchi imprevisti, quindi sconsigliabile."
   ]
  },
  {
   "cell_type": "markdown",
   "metadata": {},
   "source": [
    "## Swagger \n",
    "\n",
    "Lo swagger è la documentazione dell'API integrata direttamente nell'API sotto forma di pagina web. \n",
    "\n",
    "Con fastapi lo swagger viene generato automaticamente con openAPI e si può consultare all'endpoint /docs "
   ]
  },
  {
   "cell_type": "code",
   "execution_count": 1,
   "metadata": {},
   "outputs": [],
   "source": [
    "### Costante per gli esempi ###\n",
    "VEICOLI = [\n",
    "    {\n",
    "        \"id\": 0,\n",
    "        \"tipo\": \"automobile\",\n",
    "        \"nome\": \"mia_macchina\",\n",
    "        \"marca\": \"opel\",\n",
    "        \"modello\": \"astra\"\n",
    "    },\n",
    "    {\n",
    "        \"id\": 1,\n",
    "        \"tipo\": \"bicicletta\",\n",
    "        \"nome\": \"city_bike\",\n",
    "        \"marca\": \"bianchi\",\n",
    "        \"modello\": \"spillo\"\n",
    "    }\n",
    "]"
   ]
  },
  {
   "cell_type": "markdown",
   "metadata": {},
   "source": [
    "## Chiamate GET\n",
    "\n",
    "Abbiamo visto con l'esempio hello world una semplice chiamata get, possiamo creare percorsi ad hoc per ritrovare le risorse che cerchiamo. Ad esempio potrei perdisporre un percorso (da usare come url nelle richieste) per recuperare la lista di tutti i veicoli.\n",
    " \n",
    "Per fare questo, dalla root dell'API aggiungiamo un percorso, ad esempio: `veicoli`"
   ]
  },
  {
   "cell_type": "code",
   "execution_count": 4,
   "metadata": {},
   "outputs": [],
   "source": [
    "@app.get(\"/veicoli\")\n",
    "async def lista_veicoli():\n",
    "    return VEICOLI"
   ]
  },
  {
   "cell_type": "markdown",
   "metadata": {},
   "source": [
    "Ora potrei volere una lista parziale con le sole automobili, posso quindi creare l'endpoint `/veicoli/automobili`"
   ]
  },
  {
   "cell_type": "markdown",
   "metadata": {},
   "source": [
    "Inoltre posso indirizzare direttamente ad una risorsa specifica, ad esempio creare un endpoint che mi porti al veicolo con un particolare id"
   ]
  },
  {
   "cell_type": "code",
   "execution_count": 7,
   "metadata": {},
   "outputs": [],
   "source": [
    "@app.get(\"/veicoli/{veicolo_id}\", status_code=200)\n",
    "async def veicolo_id(veicolo_id: int):\n",
    "    result = {}\n",
    "\n",
    "    for v in VEICOLI:\n",
    "        if v[\"id\"] != veicolo_id:\n",
    "            continue\n",
    "        else:\n",
    "            result = v\n",
    "            break\n",
    "\n",
    "    return result\n"
   ]
  },
  {
   "cell_type": "markdown",
   "metadata": {},
   "source": [
    "### query params\n",
    "\n",
    "Oltre a creare nuovi percorsi e sfruttare pezzi dell'url per raggiungere diverse risorse, possiamo anche sfruttare i parametri nell'url, come abbiamo visto fare per l'API del meteo.\n",
    "\n",
    "I parametri sono quelli che vengono passati dopo il '?' e si possono concatenare più parametri con usando il &. \n"
   ]
  },
  {
   "cell_type": "code",
   "execution_count": null,
   "metadata": {},
   "outputs": [],
   "source": [
    "\n",
    "@app.get(\"/veicoli/\", status_code=200)\n",
    "async def lista_per_tipo(tipo: str):\n",
    "    result = []\n",
    "    for v in VEICOLI:\n",
    "        if v[\"tipo\"] != tipo:\n",
    "            continue\n",
    "        else:\n",
    "            result.append(v)\n",
    "            break\n",
    "\n",
    "    return result"
   ]
  },
  {
   "cell_type": "markdown",
   "metadata": {},
   "source": [
    "## POST\n",
    "\n",
    "Le chiamate post si differenziano principalmente per la presenza del body. Il body ci permette di mandare dati al server senza dover per forza utilizzare i query params. In linea teorica si potrebbe usare una get per inserire e/o aggiornare dati, però la post ci permette di occultare il pacchetto di dati del body e inoltre ci consente di mandare una struttura di dati.\n",
    "\n",
    "Bisogna utilizzare il decoratore `.post()`. \n",
    "\n",
    "Inoltre grazie a pydantic possiamo creare oggetti `BaseModel` ad hoc per interagire con il sistema.\n",
    "\n"
   ]
  },
  {
   "cell_type": "code",
   "execution_count": null,
   "metadata": {},
   "outputs": [],
   "source": [
    "from pydantic import BaseModel\n",
    "from enum import Enum\n",
    "\n",
    "class VeicoloData(BaseModel):\n",
    "    id: int | None = None\n",
    "    tipo: str\n",
    "    nome: str\n",
    "    marca: str\n",
    "\n",
    "@app.post(\"veicoli/insert\", status_code=201)\n",
    "async def insert_veicolo(nuovo: VeicoloData):\n",
    "    VEICOLI.append(nuovo)\n",
    "    return nuovo\n"
   ]
  }
 ],
 "metadata": {
  "kernelspec": {
   "display_name": "Python 3",
   "language": "python",
   "name": "python3"
  },
  "language_info": {
   "codemirror_mode": {
    "name": "ipython",
    "version": 3
   },
   "file_extension": ".py",
   "mimetype": "text/x-python",
   "name": "python",
   "nbconvert_exporter": "python",
   "pygments_lexer": "ipython3",
   "version": "3.10.12"
  }
 },
 "nbformat": 4,
 "nbformat_minor": 2
}
