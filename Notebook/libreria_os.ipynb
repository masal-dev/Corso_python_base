{
 "cells": [
  {
   "cell_type": "code",
   "execution_count": 1,
   "metadata": {},
   "outputs": [],
   "source": [
    "import os"
   ]
  },
  {
   "cell_type": "markdown",
   "metadata": {},
   "source": [
    "# OS \n",
    "Modulo di python (built-in non necessita installazione) che ci permette di interagire con il sistema operativo.\n",
    "\n",
    "Ad esempio creare cartelle, muoverci all'interno del sistema, spostare file ecc..\n",
    "\n"
   ]
  },
  {
   "cell_type": "code",
   "execution_count": 2,
   "metadata": {},
   "outputs": [
    {
     "name": "stdout",
     "output_type": "stream",
     "text": [
      "['CLD_CONTINUED', 'CLD_DUMPED', 'CLD_EXITED', 'CLD_KILLED', 'CLD_STOPPED', 'CLD_TRAPPED', 'DirEntry', 'EFD_CLOEXEC', 'EFD_NONBLOCK', 'EFD_SEMAPHORE', 'EX_CANTCREAT', 'EX_CONFIG', 'EX_DATAERR', 'EX_IOERR', 'EX_NOHOST', 'EX_NOINPUT', 'EX_NOPERM', 'EX_NOUSER', 'EX_OK', 'EX_OSERR', 'EX_OSFILE', 'EX_PROTOCOL', 'EX_SOFTWARE', 'EX_TEMPFAIL', 'EX_UNAVAILABLE', 'EX_USAGE', 'F_LOCK', 'F_OK', 'F_TEST', 'F_TLOCK', 'F_ULOCK', 'GRND_NONBLOCK', 'GRND_RANDOM', 'GenericAlias', 'MFD_ALLOW_SEALING', 'MFD_CLOEXEC', 'MFD_HUGETLB', 'MFD_HUGE_16GB', 'MFD_HUGE_16MB', 'MFD_HUGE_1GB', 'MFD_HUGE_1MB', 'MFD_HUGE_256MB', 'MFD_HUGE_2GB', 'MFD_HUGE_2MB', 'MFD_HUGE_32MB', 'MFD_HUGE_512KB', 'MFD_HUGE_512MB', 'MFD_HUGE_64KB', 'MFD_HUGE_8MB', 'MFD_HUGE_MASK', 'MFD_HUGE_SHIFT', 'Mapping', 'MutableMapping', 'NGROUPS_MAX', 'O_ACCMODE', 'O_APPEND', 'O_ASYNC', 'O_CLOEXEC', 'O_CREAT', 'O_DIRECT', 'O_DIRECTORY', 'O_DSYNC', 'O_EXCL', 'O_FSYNC', 'O_LARGEFILE', 'O_NDELAY', 'O_NOATIME', 'O_NOCTTY', 'O_NOFOLLOW', 'O_NONBLOCK', 'O_PATH', 'O_RDONLY', 'O_RDWR', 'O_RSYNC', 'O_SYNC', 'O_TMPFILE', 'O_TRUNC', 'O_WRONLY', 'POSIX_FADV_DONTNEED', 'POSIX_FADV_NOREUSE', 'POSIX_FADV_NORMAL', 'POSIX_FADV_RANDOM', 'POSIX_FADV_SEQUENTIAL', 'POSIX_FADV_WILLNEED', 'POSIX_SPAWN_CLOSE', 'POSIX_SPAWN_DUP2', 'POSIX_SPAWN_OPEN', 'PRIO_PGRP', 'PRIO_PROCESS', 'PRIO_USER', 'P_ALL', 'P_NOWAIT', 'P_NOWAITO', 'P_PGID', 'P_PID', 'P_PIDFD', 'P_WAIT', 'PathLike', 'RTLD_DEEPBIND', 'RTLD_GLOBAL', 'RTLD_LAZY', 'RTLD_LOCAL', 'RTLD_NODELETE', 'RTLD_NOLOAD', 'RTLD_NOW', 'RWF_APPEND', 'RWF_DSYNC', 'RWF_HIPRI', 'RWF_NOWAIT', 'RWF_SYNC', 'R_OK', 'SCHED_BATCH', 'SCHED_FIFO', 'SCHED_IDLE', 'SCHED_OTHER', 'SCHED_RESET_ON_FORK', 'SCHED_RR', 'SEEK_CUR', 'SEEK_DATA', 'SEEK_END', 'SEEK_HOLE', 'SEEK_SET', 'SPLICE_F_MORE', 'SPLICE_F_MOVE', 'SPLICE_F_NONBLOCK', 'ST_APPEND', 'ST_MANDLOCK', 'ST_NOATIME', 'ST_NODEV', 'ST_NODIRATIME', 'ST_NOEXEC', 'ST_NOSUID', 'ST_RDONLY', 'ST_RELATIME', 'ST_SYNCHRONOUS', 'ST_WRITE', 'TMP_MAX', 'WCONTINUED', 'WCOREDUMP', 'WEXITED', 'WEXITSTATUS', 'WIFCONTINUED', 'WIFEXITED', 'WIFSIGNALED', 'WIFSTOPPED', 'WNOHANG', 'WNOWAIT', 'WSTOPPED', 'WSTOPSIG', 'WTERMSIG', 'WUNTRACED', 'W_OK', 'XATTR_CREATE', 'XATTR_REPLACE', 'XATTR_SIZE_MAX', 'X_OK', '_Environ', '__all__', '__builtins__', '__cached__', '__doc__', '__file__', '__loader__', '__name__', '__package__', '__spec__', '_check_methods', '_execvpe', '_exists', '_exit', '_fspath', '_fwalk', '_get_exports_list', '_spawnvef', '_walk', '_wrap_close', 'abc', 'abort', 'access', 'altsep', 'chdir', 'chmod', 'chown', 'chroot', 'close', 'closerange', 'confstr', 'confstr_names', 'copy_file_range', 'cpu_count', 'ctermid', 'curdir', 'defpath', 'device_encoding', 'devnull', 'dup', 'dup2', 'environ', 'environb', 'error', 'eventfd', 'eventfd_read', 'eventfd_write', 'execl', 'execle', 'execlp', 'execlpe', 'execv', 'execve', 'execvp', 'execvpe', 'extsep', 'fchdir', 'fchmod', 'fchown', 'fdatasync', 'fdopen', 'fork', 'forkpty', 'fpathconf', 'fsdecode', 'fsencode', 'fspath', 'fstat', 'fstatvfs', 'fsync', 'ftruncate', 'fwalk', 'get_blocking', 'get_exec_path', 'get_inheritable', 'get_terminal_size', 'getcwd', 'getcwdb', 'getegid', 'getenv', 'getenvb', 'geteuid', 'getgid', 'getgrouplist', 'getgroups', 'getloadavg', 'getlogin', 'getpgid', 'getpgrp', 'getpid', 'getppid', 'getpriority', 'getrandom', 'getresgid', 'getresuid', 'getsid', 'getuid', 'getxattr', 'initgroups', 'isatty', 'kill', 'killpg', 'lchown', 'linesep', 'link', 'listdir', 'listxattr', 'lockf', 'lseek', 'lstat', 'major', 'makedev', 'makedirs', 'memfd_create', 'minor', 'mkdir', 'mkfifo', 'mknod', 'name', 'nice', 'open', 'openpty', 'pardir', 'path', 'pathconf', 'pathconf_names', 'pathsep', 'pidfd_open', 'pipe', 'pipe2', 'popen', 'posix_fadvise', 'posix_fallocate', 'posix_spawn', 'posix_spawnp', 'pread', 'preadv', 'putenv', 'pwrite', 'pwritev', 'read', 'readlink', 'readv', 'register_at_fork', 'remove', 'removedirs', 'removexattr', 'rename', 'renames', 'replace', 'rmdir', 'scandir', 'sched_get_priority_max', 'sched_get_priority_min', 'sched_getaffinity', 'sched_getparam', 'sched_getscheduler', 'sched_param', 'sched_rr_get_interval', 'sched_setaffinity', 'sched_setparam', 'sched_setscheduler', 'sched_yield', 'sendfile', 'sep', 'set_blocking', 'set_inheritable', 'setegid', 'seteuid', 'setgid', 'setgroups', 'setpgid', 'setpgrp', 'setpriority', 'setregid', 'setresgid', 'setresuid', 'setreuid', 'setsid', 'setuid', 'setxattr', 'spawnl', 'spawnle', 'spawnlp', 'spawnlpe', 'spawnv', 'spawnve', 'spawnvp', 'spawnvpe', 'splice', 'st', 'stat', 'stat_result', 'statvfs', 'statvfs_result', 'strerror', 'supports_bytes_environ', 'supports_dir_fd', 'supports_effective_ids', 'supports_fd', 'supports_follow_symlinks', 'symlink', 'sync', 'sys', 'sysconf', 'sysconf_names', 'system', 'tcgetpgrp', 'tcsetpgrp', 'terminal_size', 'times', 'times_result', 'truncate', 'ttyname', 'umask', 'uname', 'uname_result', 'unlink', 'unsetenv', 'urandom', 'utime', 'wait', 'wait3', 'wait4', 'waitid', 'waitid_result', 'waitpid', 'waitstatus_to_exitcode', 'walk', 'write', 'writev']\n"
     ]
    }
   ],
   "source": [
    "# c'è molta roba dentro\n",
    "print(dir(os))"
   ]
  },
  {
   "cell_type": "markdown",
   "metadata": {},
   "source": [
    "## Dove siamo e dove andiamo\n",
    "\n",
    "Prima di tutto vediamo come capire in quale cartella siamo all'interno del sistema operativo"
   ]
  },
  {
   "cell_type": "code",
   "execution_count": 7,
   "metadata": {},
   "outputs": [
    {
     "data": {
      "text/plain": [
       "'/home/pg/coding/Corso_python_base/Notebook'"
      ]
     },
     "execution_count": 7,
     "metadata": {},
     "output_type": "execute_result"
    }
   ],
   "source": [
    "os.getcwd() # get current working directory\n"
   ]
  },
  {
   "cell_type": "markdown",
   "metadata": {},
   "source": [
    "Proviamo a spostarci\n"
   ]
  },
  {
   "cell_type": "code",
   "execution_count": 8,
   "metadata": {},
   "outputs": [],
   "source": [
    "inizio_in = os.getcwd()"
   ]
  },
  {
   "cell_type": "code",
   "execution_count": 11,
   "metadata": {},
   "outputs": [
    {
     "data": {
      "text/plain": [
       "'/home/pg/coding/Corso_python_base/Notebook'"
      ]
     },
     "execution_count": 11,
     "metadata": {},
     "output_type": "execute_result"
    }
   ],
   "source": [
    "os.chdir('..') # change directory\n",
    "\n",
    "os.getcwd()\n",
    "\n"
   ]
  },
  {
   "cell_type": "markdown",
   "metadata": {},
   "source": [
    "Con il comando `chdir('..')` mi sono spostato nella cartella superiore.\n",
    "\n",
    "Torniamo alla cartella di partenza"
   ]
  },
  {
   "cell_type": "code",
   "execution_count": 12,
   "metadata": {},
   "outputs": [
    {
     "data": {
      "text/plain": [
       "'/home/pg/coding/Corso_python_base/Notebook'"
      ]
     },
     "execution_count": 12,
     "metadata": {},
     "output_type": "execute_result"
    }
   ],
   "source": [
    "\n",
    "os.chdir(inizio_in)\n",
    "os.getcwd()"
   ]
  },
  {
   "cell_type": "markdown",
   "metadata": {},
   "source": [
    "## Creare Cartelle \n",
    "\n",
    "Per creare una nuova cartella possiamo usare il comando mkdir()"
   ]
  },
  {
   "cell_type": "code",
   "execution_count": 28,
   "metadata": {},
   "outputs": [],
   "source": [
    "os.mkdir(\"test_dir\")\n",
    "# os.rmdir(\"test_dir\")"
   ]
  },
  {
   "cell_type": "markdown",
   "metadata": {},
   "source": [
    "Nel caso volessimo creare una struttura di cartelle, possiamo usare `mkdirs()` questo comando genera una cartella in un percorso dato e se non ci sono le cartelle superiori che la dovrebbero contenere, vengono create anch'esse "
   ]
  },
  {
   "cell_type": "markdown",
   "metadata": {},
   "source": []
  },
  {
   "cell_type": "markdown",
   "metadata": {},
   "source": [
    "## Vedere il contenuto\n",
    "\n",
    "Ora possiamo muoverci per il sistema, vediamo cosa c'è nella cartella. Il metodo listdir ritorna una lista con i nomi dei file contenuti nella cartella."
   ]
  },
  {
   "cell_type": "code",
   "execution_count": 13,
   "metadata": {},
   "outputs": [
    {
     "data": {
      "text/plain": [
       "['decoratori.ipynb',\n",
       " 'lezione.ipynb',\n",
       " 'func_miei_appunti.ipynb',\n",
       " 'leggere_scrivere_file.ipynb',\n",
       " 'gestione_errori.ipynb',\n",
       " 'alighieri_vita_nuova.txt',\n",
       " 'test',\n",
       " 'file_generato.txt',\n",
       " 'test.ipynb',\n",
       " 'libreria_os.ipynb',\n",
       " 'mbox.txt',\n",
       " 'random.ipynb',\n",
       " 'libreria_sys.ipynb']"
      ]
     },
     "execution_count": 13,
     "metadata": {},
     "output_type": "execute_result"
    }
   ],
   "source": [
    "os.listdir()"
   ]
  },
  {
   "cell_type": "markdown",
   "metadata": {},
   "source": [
    "`listdir()` può essere usato con un argomento che indica il percorso in cui andare a preparare la lista dei file"
   ]
  },
  {
   "cell_type": "code",
   "execution_count": 15,
   "metadata": {},
   "outputs": [],
   "source": [
    "os.listdir(\"../..\")"
   ]
  },
  {
   "cell_type": "markdown",
   "metadata": {},
   "source": [
    "Rinominare file"
   ]
  },
  {
   "cell_type": "code",
   "execution_count": 31,
   "metadata": {},
   "outputs": [],
   "source": [
    "os.rename(\"test\", \"empty_file.txt\")"
   ]
  },
  {
   "cell_type": "markdown",
   "metadata": {},
   "source": [
    "Vedere i dettagli del file"
   ]
  },
  {
   "cell_type": "code",
   "execution_count": 34,
   "metadata": {},
   "outputs": [],
   "source": [
    "os.stat(\"empty_file.txt\")"
   ]
  },
  {
   "cell_type": "markdown",
   "metadata": {},
   "source": [
    "Ci da diverse info come dimensione, ultima modifice, creazione...\n",
    "\n",
    "[documentazione](https://docs.python.org/3/library/os.html#os.stat_result)"
   ]
  },
  {
   "cell_type": "markdown",
   "metadata": {},
   "source": [
    "### Proviamo a mettere in ordine i file\n",
    "\n",
    "- Preparare una funzione che, dato un percorso sul sistema (controlla che sia valido) quindi recupera la lista dei file e li mette in ordine di dimensione\n",
    "- Variante: passando un secondo parametro alla funzione esempio `creazione=True` la funzione produce una lista in ordine di data di creazione\n",
    "- Bonus: anziché ritornare una lista, ritornare un dict con nome file, dimensione, data creazione con timestamp leggibile."
   ]
  },
  {
   "cell_type": "markdown",
   "metadata": {},
   "source": [
    "Cosa succede quando abbiamo tanti file e la gestione potrebbe essere complicata?\n",
    "\n",
    "Il metodo migliore per gestire questa situazione è `scandir()`"
   ]
  },
  {
   "cell_type": "code",
   "execution_count": 29,
   "metadata": {},
   "outputs": [
    {
     "name": "stdout",
     "output_type": "stream",
     "text": [
      "os.stat_result(st_mode=33204, st_ino=19409173, st_dev=66309, st_nlink=1, st_uid=1000, st_gid=1000, st_size=12213, st_atime=1715873439, st_mtime=1715873439, st_ctime=1715873439)\n",
      "os.stat_result(st_mode=33204, st_ino=19410175, st_dev=66309, st_nlink=1, st_uid=1000, st_gid=1000, st_size=2081, st_atime=1716285426, st_mtime=1715865069, st_ctime=1715865069)\n",
      "os.stat_result(st_mode=33204, st_ino=19410101, st_dev=66309, st_nlink=1, st_uid=1000, st_gid=1000, st_size=4632, st_atime=1716285258, st_mtime=1715869872, st_ctime=1715869872)\n",
      "os.stat_result(st_mode=33204, st_ino=19410257, st_dev=66309, st_nlink=1, st_uid=1000, st_gid=1000, st_size=162180, st_atime=1716414798, st_mtime=1716414798, st_ctime=1716414798)\n",
      "os.stat_result(st_mode=33204, st_ino=19410261, st_dev=66309, st_nlink=1, st_uid=1000, st_gid=1000, st_size=10314, st_atime=1716395783, st_mtime=1716395783, st_ctime=1716395783)\n",
      "os.stat_result(st_mode=33204, st_ino=17833896, st_dev=66309, st_nlink=1, st_uid=1000, st_gid=1000, st_size=130206, st_atime=1716413781, st_mtime=1716412824, st_ctime=1716413137)\n",
      "os.stat_result(st_mode=33204, st_ino=19410263, st_dev=66309, st_nlink=1, st_uid=1000, st_gid=1000, st_size=0, st_atime=1716414350, st_mtime=1716285287, st_ctime=1716285287)\n",
      "os.stat_result(st_mode=33204, st_ino=19410262, st_dev=66309, st_nlink=1, st_uid=1000, st_gid=1000, st_size=12, st_atime=1716285278, st_mtime=1716285278, st_ctime=1716285278)\n",
      "os.stat_result(st_mode=33204, st_ino=19410132, st_dev=66309, st_nlink=1, st_uid=1000, st_gid=1000, st_size=475, st_atime=1715866775, st_mtime=1715866775, st_ctime=1715866775)\n",
      "os.stat_result(st_mode=33204, st_ino=19400249, st_dev=66309, st_nlink=1, st_uid=1000, st_gid=1000, st_size=10620, st_atime=1716416550, st_mtime=1716416550, st_ctime=1716416550)\n",
      "os.stat_result(st_mode=33204, st_ino=19403876, st_dev=66309, st_nlink=1, st_uid=1000, st_gid=1000, st_size=94627, st_atime=1716414382, st_mtime=1716414382, st_ctime=1716414382)\n",
      "os.stat_result(st_mode=33204, st_ino=19409118, st_dev=66309, st_nlink=1, st_uid=1000, st_gid=1000, st_size=34938, st_atime=1716285448, st_mtime=1715700314, st_ctime=1715700314)\n",
      "os.stat_result(st_mode=33204, st_ino=19410200, st_dev=66309, st_nlink=1, st_uid=1000, st_gid=1000, st_size=19544, st_atime=1716411512, st_mtime=1716277925, st_ctime=1716277925)\n"
     ]
    }
   ],
   "source": [
    "with os.scandir() as scan_handler:\n",
    "    for file in scan_handler:\n",
    "        print(file.stat())"
   ]
  },
  {
   "cell_type": "markdown",
   "metadata": {},
   "source": [
    "## Passeggiare tra file e cartelle \n",
    "\n",
    "Il metodo `os.walk()` permette di muoversi tra le cartelle "
   ]
  },
  {
   "cell_type": "code",
   "execution_count": 36,
   "metadata": {},
   "outputs": [
    {
     "name": "stdout",
     "output_type": "stream",
     "text": [
      "dove siamo ..\n",
      "cartelle presenti ['Esempi', 'Esercizi', '.git', 'Notebook', '.vscode']\n",
      "file presenti ['calendar.json', 'README.md', 'link.png']\n",
      "dove siamo ../Esempi\n",
      "cartelle presenti ['__pycache__', 'stringhe', 'cicli']\n",
      "file presenti ['esempi_print.py', 'helloC.cpp', 'stringhe_prova.py', 'genera_qrcode.py', 'main.py', 'funzioni_ritorno.py', 'private_property.py', 'organizza_download.py']\n",
      "dove siamo ../Esempi/__pycache__\n",
      "cartelle presenti []\n",
      "file presenti []\n",
      "dove siamo ../Esempi/stringhe\n",
      "cartelle presenti []\n",
      "file presenti ['esempi_stringhe.py']\n",
      "dove siamo ../Esempi/cicli\n",
      "cartelle presenti []\n",
      "file presenti ['ciclo_intro.py']\n",
      "dove siamo ../Esercizi\n",
      "cartelle presenti ['Soluzioni']\n",
      "file presenti ['cicli_while.py', 'tuple_set.py', 'bancomat.py', 'cicli_for.py', 'input.py', 'main_automobili.py', 'funzioni.py', 'liste.py', 'dizionari.py', 'tempo.py']\n",
      "dove siamo ../Esercizi/Soluzioni\n",
      "cartelle presenti []\n",
      "file presenti ['cicli_while.py', 'tuple_set.py', 'cicli_for copy.py', 'liste.py', 'dizionari.py', 'tempo.py']\n",
      "dove siamo ../.git\n",
      "cartelle presenti ['objects', 'info', 'hooks', 'logs', 'refs', 'branches']\n",
      "file presenti ['config', 'packed-refs', 'description', 'COMMIT_EDITMSG', 'index', 'FETCH_HEAD', 'HEAD']\n",
      "dove siamo ../.git/objects\n",
      "cartelle presenti ['f8', 'da', '45', 'd1', 'cb', '84', '70', '90', '82', 'b7', 'db', 'e8', '87', 'c4', 'dd', '23', '19', '4f', '4c', '48', 'ba', '02', '77', '9d', 'd0', 'b8', '1e', '98', '59', '60', 'info', '55', 'a1', '00', '95', '44', 'ec', 'cc', 'b4', 'bf', 'e7', '49', '15', '09', '4e', '4a', 'b1', 'a6', '4b', '04', 'd4', '3d', '69', '2f', '6f', 'dc', 'e4', 'd7', '13', 'b0', '75', '28', 'a3', '96', '2e', 'ca', 'e3', 'pack', 'ee', 'a2', '3a', '58', '0d', '9a', '30', '51', 'ce', '83', '38', '93', '1f', '41', 'f4', 'b3', 'c7', 'b6', '14', 'c1', '71', '01', '80', '85', '1a', '1d', 'c0', 'ff', '29', '7c', '2c']\n",
      "file presenti []\n",
      "dove siamo ../.git/objects/f8\n",
      "cartelle presenti []\n",
      "file presenti ['de3dc1c5032f91a77ff5eb55f56e86f672bb71', '627eab518311af94477e75bcbb40995a89c3f4']\n",
      "dove siamo ../.git/objects/da\n",
      "cartelle presenti []\n",
      "file presenti ['5ac293f70a044150ed1860a41b10a4a79698bf', '5e24c673477e6dd4b69d66d54ca6ec800f83fe']\n",
      "dove siamo ../.git/objects/45\n",
      "cartelle presenti []\n",
      "file presenti ['aaabecb5bf39a203a4116c7c604a3949ade9cb', '440fe8488b0643b9c1e8e76be9df3455c3577f']\n",
      "dove siamo ../.git/objects/d1\n",
      "cartelle presenti []\n",
      "file presenti ['9df9b51267f70a5e64391b1c1e9152c8a2f678']\n",
      "dove siamo ../.git/objects/cb\n",
      "cartelle presenti []\n",
      "file presenti ['09c81b0deec925bd61fa036617320c68a28198']\n",
      "dove siamo ../.git/objects/84\n",
      "cartelle presenti []\n",
      "file presenti ['f0c8652cebfd1142dfd3dc646aebd70109acf7']\n",
      "dove siamo ../.git/objects/70\n",
      "cartelle presenti []\n",
      "file presenti ['d5eb0a6268c0933e5016c36065d474d9f1420a', 'fa42230d28fe1d1f2f3775ff8036529d2090de', 'ec6c3d7292f75d3710b7caa9d82f479f5d4a16']\n",
      "dove siamo ../.git/objects/90\n",
      "cartelle presenti []\n",
      "file presenti ['861185f4a618bb9c3876372aeea5021452f024', '16177d8de920d2b6a4b4a72a8c0d1423c6a9c5']\n",
      "dove siamo ../.git/objects/82\n",
      "cartelle presenti []\n",
      "file presenti ['3d691c89597e5648df293018ded039116cdeeb']\n",
      "dove siamo ../.git/objects/b7\n",
      "cartelle presenti []\n",
      "file presenti ['7dc859fa06ef23597b9b16ee52e95c21daf674']\n",
      "dove siamo ../.git/objects/db\n",
      "cartelle presenti []\n",
      "file presenti ['8b5fb3a2965ac8c9c8c3ca86244c72bfab3c05']\n",
      "dove siamo ../.git/objects/e8\n",
      "cartelle presenti []\n",
      "file presenti ['1289b55a3cbc473027b7f02a85783d0bb94774']\n",
      "dove siamo ../.git/objects/87\n",
      "cartelle presenti []\n",
      "file presenti ['ce5951c3d7fab82e7e9ba512fe8342620aa913']\n",
      "dove siamo ../.git/objects/c4\n",
      "cartelle presenti []\n",
      "file presenti ['da7d184b65e34570d2c78942b9efa07405f6d3']\n",
      "dove siamo ../.git/objects/dd\n",
      "cartelle presenti []\n",
      "file presenti ['bb398060df6e95f6d7ed11fd348fbe707ee296', 'aab51e86dc83a57dd99b7cdb2b04b27bd5ce4b']\n",
      "dove siamo ../.git/objects/23\n",
      "cartelle presenti []\n",
      "file presenti ['a79f611573a1be390e466baa378b01ebfd75fa', 'cbeb555e3ec9a70404dd1ed8fc0f3a9f69bed0']\n",
      "dove siamo ../.git/objects/19\n",
      "cartelle presenti []\n",
      "file presenti ['6d4c406318875c318d9030ba7a1103c1649c34']\n",
      "dove siamo ../.git/objects/4f\n",
      "cartelle presenti []\n",
      "file presenti ['b43d950bde781893af4ee10641b9c6f59ff34e']\n",
      "dove siamo ../.git/objects/4c\n",
      "cartelle presenti []\n",
      "file presenti ['fcf92faa3d58d63489122252129daea9dc8528', '3b40c4e96f074e551619e7f3a8158a6667f952', '409f53147f16e17219c679b45fca79aa079795']\n",
      "dove siamo ../.git/objects/48\n",
      "cartelle presenti []\n",
      "file presenti ['11738e46f315d0835c7d1d0ba4ad5d19767e58']\n",
      "dove siamo ../.git/objects/ba\n",
      "cartelle presenti []\n",
      "file presenti ['18535f16b860a129f39d42544db8437cf1823e']\n",
      "dove siamo ../.git/objects/02\n",
      "cartelle presenti []\n",
      "file presenti ['6821c1a5771227f393515a6d681e6b5302cca3']\n",
      "dove siamo ../.git/objects/77\n",
      "cartelle presenti []\n",
      "file presenti ['4ef7f2c91a8d1d2729d853b7e751e3e20bc1bb']\n",
      "dove siamo ../.git/objects/9d\n",
      "cartelle presenti []\n",
      "file presenti ['20bcbee524da1653c7874834159d40cd474216']\n",
      "dove siamo ../.git/objects/d0\n",
      "cartelle presenti []\n",
      "file presenti ['7d6e46c7cca9cfb595223e5512768551d0ea35']\n",
      "dove siamo ../.git/objects/b8\n",
      "cartelle presenti []\n",
      "file presenti ['510d767dcd648a6f518e2e26d67824900a8d58', '01f6a6d88b283d5df3bc6f222c49a538693116', '8a598d97961c829f19efbf279c12b39d6ea586']\n",
      "dove siamo ../.git/objects/1e\n",
      "cartelle presenti []\n",
      "file presenti ['1ff78e7256113d8eb48d17aebc107d2503d256', '0146f2bf1658b8052a869ebdf7af578b3ed29c', 'f29531f9a971d635e66d3816acb5f868904260']\n",
      "dove siamo ../.git/objects/98\n",
      "cartelle presenti []\n",
      "file presenti ['2bf111ec2347cf8bde5a03f80fbf43ace74015']\n",
      "dove siamo ../.git/objects/59\n",
      "cartelle presenti []\n",
      "file presenti ['8f9a0959584112715126fae358839696d439ad']\n",
      "dove siamo ../.git/objects/60\n",
      "cartelle presenti []\n",
      "file presenti ['797aaf8cee62e36263ac80e7134a1848902309']\n",
      "dove siamo ../.git/objects/info\n",
      "cartelle presenti []\n",
      "file presenti []\n",
      "dove siamo ../.git/objects/55\n",
      "cartelle presenti []\n",
      "file presenti ['d536773e9d0489ec49fb620fe177f1d70b0f22']\n",
      "dove siamo ../.git/objects/a1\n",
      "cartelle presenti []\n",
      "file presenti ['9e6390f3ee510225a109e4d69d284dbeaf9e38']\n",
      "dove siamo ../.git/objects/00\n",
      "cartelle presenti []\n",
      "file presenti ['275929e017c30848e966b55b423230c9d0b09a', '5201aa36ed5613a8a8a625831330f42afff4fe']\n",
      "dove siamo ../.git/objects/95\n",
      "cartelle presenti []\n",
      "file presenti ['1c529bf0821e3ba42ed6d05ba7506f27869d03']\n",
      "dove siamo ../.git/objects/44\n",
      "cartelle presenti []\n",
      "file presenti ['53656c19a3777c9160505a94fd0be649734332', '2bd8b712e0a8d59ea1dc65f810dad584477fcd']\n",
      "dove siamo ../.git/objects/ec\n",
      "cartelle presenti []\n",
      "file presenti ['75141591e62e52befa0dba0c8865a750b1a907']\n",
      "dove siamo ../.git/objects/cc\n",
      "cartelle presenti []\n",
      "file presenti ['e25fdd416830428897f3370e9868b814d2015d']\n",
      "dove siamo ../.git/objects/b4\n",
      "cartelle presenti []\n",
      "file presenti ['bce97bdfda67f53c5faf8a2ab2bbd0be5a4b5e']\n",
      "dove siamo ../.git/objects/bf\n",
      "cartelle presenti []\n",
      "file presenti ['5f7413427a5fda8d3811df810386b320b09aed']\n",
      "dove siamo ../.git/objects/e7\n",
      "cartelle presenti []\n",
      "file presenti ['90d3fc7bc26f0fb10ce69a4e0b82aef919e7c0', '79a040a992f2d83d305d1854e46de8abd0f0b8']\n",
      "dove siamo ../.git/objects/49\n",
      "cartelle presenti []\n",
      "file presenti ['fa2ecada85688cdef8611da92c00d7f6331244', '5a74d777e4231daebf42754d931e0dfb9b7115']\n",
      "dove siamo ../.git/objects/15\n",
      "cartelle presenti []\n",
      "file presenti ['cf4f7542f5eff64f3259de5de7a3b1384e1b29']\n",
      "dove siamo ../.git/objects/09\n",
      "cartelle presenti []\n",
      "file presenti ['6894e6ed3c4fa05a5b48d5fa1941d7a5a0665c']\n",
      "dove siamo ../.git/objects/4e\n",
      "cartelle presenti []\n",
      "file presenti ['6cce6bcbfc902044c90c8f2eabc172c54db2c0']\n",
      "dove siamo ../.git/objects/4a\n",
      "cartelle presenti []\n",
      "file presenti ['fb14516f53a6d7aabd669d0e4ddfadaf18b263']\n",
      "dove siamo ../.git/objects/b1\n",
      "cartelle presenti []\n",
      "file presenti ['f5211514b654cd8962d988bec0cb3f88b5de0b']\n",
      "dove siamo ../.git/objects/a6\n",
      "cartelle presenti []\n",
      "file presenti ['bdd7a264d651f2300e7ba465f7089bcdaac863']\n",
      "dove siamo ../.git/objects/4b\n",
      "cartelle presenti []\n",
      "file presenti ['9abae05043c0fc61394f69b70c75b1da22ef33', 'a78042845a6c22c67c2628b69f1c3d59d7a8d7', '026a816040d0051212dc93d55cec48f2025f51']\n",
      "dove siamo ../.git/objects/04\n",
      "cartelle presenti []\n",
      "file presenti ['9f4372638af9addb37e6d5b0686d88f147d04c', '164bf56152d7869819ba01059121eb2b034b41']\n",
      "dove siamo ../.git/objects/d4\n",
      "cartelle presenti []\n",
      "file presenti ['2cdec03ecfc4084460dc5aa9853807a4381aa3']\n",
      "dove siamo ../.git/objects/3d\n",
      "cartelle presenti []\n",
      "file presenti ['a2b7ab4525c0af0197eb664a116352fdc01bb5', '1b77881536229220d06b28a9a164ba569a455f', 'ba0a8d90f0b2cc8f4eddf678713b046c01f01b']\n",
      "dove siamo ../.git/objects/69\n",
      "cartelle presenti []\n",
      "file presenti ['03adc204ee99bf72f5afd979fb983495bbdfaf', 'bfccaec342abd3c258fe8279c8027c79b99a49']\n",
      "dove siamo ../.git/objects/2f\n",
      "cartelle presenti []\n",
      "file presenti ['dd0839b52b0d038d19e0c0436dab2895311de7']\n",
      "dove siamo ../.git/objects/6f\n",
      "cartelle presenti []\n",
      "file presenti ['2082e8a86eac79924103e262ebaa275dce9c03', 'b797780a6c5378c85c6939a538b3664759883b']\n",
      "dove siamo ../.git/objects/dc\n",
      "cartelle presenti []\n",
      "file presenti ['dc3786391099a9c593fb628e9326d703fa29a7', 'e9d8e41327829d25cfc6bcf0f32ee147b581d7']\n",
      "dove siamo ../.git/objects/e4\n",
      "cartelle presenti []\n",
      "file presenti ['cd4b2b69dea32774bd4ff2fb8950ad82ac6e5e']\n",
      "dove siamo ../.git/objects/d7\n",
      "cartelle presenti []\n",
      "file presenti ['0c743d78fdf50a612e879bacfe7c84ef707fa7']\n",
      "dove siamo ../.git/objects/13\n",
      "cartelle presenti []\n",
      "file presenti ['e00bd3e4b7d4d5a3601513701788c3af99fa46']\n",
      "dove siamo ../.git/objects/b0\n",
      "cartelle presenti []\n",
      "file presenti ['2acae2b6a2a71f7743544bd2479fe1e10b5fc4']\n",
      "dove siamo ../.git/objects/75\n",
      "cartelle presenti []\n",
      "file presenti ['b2373b6e642f5ebb8ddcdbf40fbd86d313da02']\n",
      "dove siamo ../.git/objects/28\n",
      "cartelle presenti []\n",
      "file presenti ['518c20079b68d1920374deb96f6040aa97fbcd', '5704c484f68f543a6b2c7882f386fdc8e5a8fd']\n",
      "dove siamo ../.git/objects/a3\n",
      "cartelle presenti []\n",
      "file presenti ['b550a95f099b1ed55b2b83a7d833632b83b5b6', 'cfc002132a665d0e216e41f9d95206c2afbaf7']\n",
      "dove siamo ../.git/objects/96\n",
      "cartelle presenti []\n",
      "file presenti ['9b3598ea2d25a9cd8ba3b8868c991fa5881236']\n",
      "dove siamo ../.git/objects/2e\n",
      "cartelle presenti []\n",
      "file presenti ['f2ddbf0408e9fdf12659782dc4aa82edd3bae5']\n",
      "dove siamo ../.git/objects/ca\n",
      "cartelle presenti []\n",
      "file presenti ['9cf9e6db1e111255d8bc9a1dfdfee0e033a94d']\n",
      "dove siamo ../.git/objects/e3\n",
      "cartelle presenti []\n",
      "file presenti ['198a0b7bac50ac922396848da4c55294ea5a98', 'bc240e790eeaf9b3679ec4b159e3517dd33cf6']\n",
      "dove siamo ../.git/objects/pack\n",
      "cartelle presenti []\n",
      "file presenti ['pack-a7750f3cd1d7f6a3cd9d393d3137af83af7a3740.idx', 'pack-a7750f3cd1d7f6a3cd9d393d3137af83af7a3740.pack']\n",
      "dove siamo ../.git/objects/ee\n",
      "cartelle presenti []\n",
      "file presenti ['b0504582163f7fe49398f7df6c713fa3b28fd7']\n",
      "dove siamo ../.git/objects/a2\n",
      "cartelle presenti []\n",
      "file presenti ['ea497e1051f4e493a3fe5bb979f74cfa43845f']\n",
      "dove siamo ../.git/objects/3a\n",
      "cartelle presenti []\n",
      "file presenti ['59016ad5292d7f69eeecbe666254d4984ee5e6']\n",
      "dove siamo ../.git/objects/58\n",
      "cartelle presenti []\n",
      "file presenti ['f1f88487a3612452897f5915181889beee1714']\n",
      "dove siamo ../.git/objects/0d\n",
      "cartelle presenti []\n",
      "file presenti ['30cca2009b347517fef5ea00b144aeb429767d']\n",
      "dove siamo ../.git/objects/9a\n",
      "cartelle presenti []\n",
      "file presenti ['124c9dcd2cd9e8a50b9de7c867f8751d6f4517', '41a2391ead968050979e37d65ffd6dab0aeb1c']\n",
      "dove siamo ../.git/objects/30\n",
      "cartelle presenti []\n",
      "file presenti ['008cd5beb35977f61b1853f3b19df8dfb8530f', '71290c858c5df389476765f8d552dcf0df17c8']\n",
      "dove siamo ../.git/objects/51\n",
      "cartelle presenti []\n",
      "file presenti ['721dc97739192396235c01edb5620e7e2e227e']\n",
      "dove siamo ../.git/objects/ce\n",
      "cartelle presenti []\n",
      "file presenti ['c6359736613e5cd789ee6e70e86c4f88a5f412']\n",
      "dove siamo ../.git/objects/83\n",
      "cartelle presenti []\n",
      "file presenti ['c336b5d65043b6a56376b5f8b2b926ed77bdab', '9cfe95af7686201b7003dcbae5eb931424ddc2']\n",
      "dove siamo ../.git/objects/38\n",
      "cartelle presenti []\n",
      "file presenti ['3fdee2f607a2c471130e3f217dafe3b0dbb2f9']\n",
      "dove siamo ../.git/objects/93\n",
      "cartelle presenti []\n",
      "file presenti ['fdfc35065d0a67f6443770c413ec40d658312a']\n",
      "dove siamo ../.git/objects/1f\n",
      "cartelle presenti []\n",
      "file presenti ['23486c65fa153adc798498cc17b6cc8b6d8f61']\n",
      "dove siamo ../.git/objects/41\n",
      "cartelle presenti []\n",
      "file presenti ['0865c65877b19075c98647fe3128a0e70f17eb', '3ab4dc36e352302a4ae6fc0d6d10e763e306da']\n",
      "dove siamo ../.git/objects/f4\n",
      "cartelle presenti []\n",
      "file presenti ['155e7594509d8a8f6c6b347ba44e19e4585ad9']\n",
      "dove siamo ../.git/objects/b3\n",
      "cartelle presenti []\n",
      "file presenti ['4ab25138ecda77fa67484032ac37b59e2879df']\n",
      "dove siamo ../.git/objects/c7\n",
      "cartelle presenti []\n",
      "file presenti ['2d87dfa74e84a109266fd6296f89339f8a5f0b', '6d530a6042fd04f51ef28edf28c819256854c8']\n",
      "dove siamo ../.git/objects/b6\n",
      "cartelle presenti []\n",
      "file presenti ['ea39293cb2b2e4c4db0830a64c5bfdaf3b37af']\n",
      "dove siamo ../.git/objects/14\n",
      "cartelle presenti []\n",
      "file presenti ['7962a3a89501791b7b4c1631a8c28b6d2400fd', '8b97cd5a341dc8e3c97dc8900caa164e974dfd', '7e7a9ed17280e09dc0907cf08ae76743bfa1f0']\n",
      "dove siamo ../.git/objects/c1\n",
      "cartelle presenti []\n",
      "file presenti ['81fe4b3297842a5ee1b461ac50b602cc220209']\n",
      "dove siamo ../.git/objects/71\n",
      "cartelle presenti []\n",
      "file presenti ['c2227ce8a23d1b204f2da5ab9b7b3e04ba760c']\n",
      "dove siamo ../.git/objects/01\n",
      "cartelle presenti []\n",
      "file presenti ['7423bf4974bdd9c85525d2aa0b16e3c8bff380', '2ed9170b4d42c53c13b6ffb341cdb85794b7fd', '25fe02ef794ef7a12053e16189d0cdab0f6c39']\n",
      "dove siamo ../.git/objects/80\n",
      "cartelle presenti []\n",
      "file presenti ['d7f52efdc47032bd6024af0d1a89c90231903a', '97f0285e34812b900595716d287dc6ef57bf0d']\n",
      "dove siamo ../.git/objects/85\n",
      "cartelle presenti []\n",
      "file presenti ['377ff1fb4a7348da906f8cac0e7b3223c98d0c']\n",
      "dove siamo ../.git/objects/1a\n",
      "cartelle presenti []\n",
      "file presenti ['0b4bfd4a3706a7823aa66a909b6afdafec9cd0']\n",
      "dove siamo ../.git/objects/1d\n",
      "cartelle presenti []\n",
      "file presenti ['7dc5a6ef7f103a8e947429e1b22085cfaea2c2']\n",
      "dove siamo ../.git/objects/c0\n",
      "cartelle presenti []\n",
      "file presenti ['5289c583768e960191c9254e588cf9ccb80c18']\n",
      "dove siamo ../.git/objects/ff\n",
      "cartelle presenti []\n",
      "file presenti ['4b28e0a3002ab3438e3175a5db8f9df3df230c']\n",
      "dove siamo ../.git/objects/29\n",
      "cartelle presenti []\n",
      "file presenti ['b37bb95fe15a45dffb63db24dc3430f54d37f4']\n",
      "dove siamo ../.git/objects/7c\n",
      "cartelle presenti []\n",
      "file presenti ['4e6c214da4e3d8971f1011761555e4152d08bb']\n",
      "dove siamo ../.git/objects/2c\n",
      "cartelle presenti []\n",
      "file presenti ['fde1b04ba33375df7957fd6ccb18fa2ab30129']\n",
      "dove siamo ../.git/info\n",
      "cartelle presenti []\n",
      "file presenti ['exclude']\n",
      "dove siamo ../.git/hooks\n",
      "cartelle presenti []\n",
      "file presenti ['pre-rebase.sample', 'post-update.sample', 'update.sample', 'fsmonitor-watchman.sample', 'applypatch-msg.sample', 'pre-commit.sample', 'pre-merge-commit.sample', 'commit-msg.sample', 'pre-push.sample', 'push-to-checkout.sample', 'pre-receive.sample', 'pre-applypatch.sample', 'prepare-commit-msg.sample']\n",
      "dove siamo ../.git/logs\n",
      "cartelle presenti ['refs']\n",
      "file presenti ['HEAD']\n",
      "dove siamo ../.git/logs/refs\n",
      "cartelle presenti ['remotes', 'heads']\n",
      "file presenti []\n",
      "dove siamo ../.git/logs/refs/remotes\n",
      "cartelle presenti ['origin']\n",
      "file presenti []\n",
      "dove siamo ../.git/logs/refs/remotes/origin\n",
      "cartelle presenti []\n",
      "file presenti ['HEAD', 'main']\n",
      "dove siamo ../.git/logs/refs/heads\n",
      "cartelle presenti []\n",
      "file presenti ['main']\n",
      "dove siamo ../.git/refs\n",
      "cartelle presenti ['tags', 'remotes', 'heads']\n",
      "file presenti []\n",
      "dove siamo ../.git/refs/tags\n",
      "cartelle presenti []\n",
      "file presenti []\n",
      "dove siamo ../.git/refs/remotes\n",
      "cartelle presenti ['origin']\n",
      "file presenti []\n",
      "dove siamo ../.git/refs/remotes/origin\n",
      "cartelle presenti []\n",
      "file presenti ['HEAD', 'main']\n",
      "dove siamo ../.git/refs/heads\n",
      "cartelle presenti []\n",
      "file presenti ['main']\n",
      "dove siamo ../.git/branches\n",
      "cartelle presenti []\n",
      "file presenti []\n",
      "dove siamo ../Notebook\n",
      "cartelle presenti []\n",
      "file presenti ['decoratori.ipynb', 'lezione.ipynb', 'func_miei_appunti.ipynb', 'leggere_scrivere_file.ipynb', 'gestione_errori.ipynb', 'alighieri_vita_nuova.txt', 'test', 'file_generato.txt', 'test.ipynb', 'libreria_os.ipynb', 'mbox.txt', 'random.ipynb', 'libreria_sys.ipynb']\n",
      "dove siamo ../.vscode\n",
      "cartelle presenti []\n",
      "file presenti []\n"
     ]
    }
   ],
   "source": [
    "for current_dir, dir_name, file_name in os.walk(\"..\"):\n",
    "    print(\"dove siamo\", current_dir)\n",
    "    print(\"cartelle presenti\", dir_name)\n",
    "    print(\"file presenti\", file_name)"
   ]
  },
  {
   "cell_type": "markdown",
   "metadata": {},
   "source": [
    "Walk è molto comodo per traversare senza problemi strutture di cartelle abbastanza complesse, ci risparmia di dover utilizzare chiamate ricorsive. Tuttavia il più veloce rimane sempre `os.scandir()`"
   ]
  },
  {
   "cell_type": "markdown",
   "metadata": {},
   "source": [
    "### Altre funzionalità:"
   ]
  },
  {
   "cell_type": "code",
   "execution_count": 39,
   "metadata": {},
   "outputs": [],
   "source": [
    "home_path = os.environ.get(\"HOME\")"
   ]
  },
  {
   "cell_type": "code",
   "execution_count": 44,
   "metadata": {},
   "outputs": [
    {
     "data": {
      "text/plain": [
       "'.txt'"
      ]
     },
     "execution_count": 44,
     "metadata": {},
     "output_type": "execute_result"
    }
   ],
   "source": [
    "os.path.join(home_path, \"nuovo_file.txt\")"
   ]
  },
  {
   "cell_type": "markdown",
   "metadata": {},
   "source": [
    "Utilizzando l'oggetto path di os possiamo manipolare e gestire i percorsi di sistema.\n",
    "\n",
    "Oltre al join troviamo:\n",
    "\n",
    "os.path.basename()\n",
    "os.path.dirname()\n",
    "os.path.split()\n",
    "os.path.splittext()\n",
    "os.path.exist()\n",
    "os.path.isfile()\n",
    "os.path.isdir()"
   ]
  }
 ],
 "metadata": {
  "kernelspec": {
   "display_name": "Python 3",
   "language": "python",
   "name": "python3"
  },
  "language_info": {
   "codemirror_mode": {
    "name": "ipython",
    "version": 3
   },
   "file_extension": ".py",
   "mimetype": "text/x-python",
   "name": "python",
   "nbconvert_exporter": "python",
   "pygments_lexer": "ipython3",
   "version": "3.10.12"
  }
 },
 "nbformat": 4,
 "nbformat_minor": 2
}
