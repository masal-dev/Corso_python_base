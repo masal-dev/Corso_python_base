{
 "cells": [
  {
   "cell_type": "markdown",
   "metadata": {},
   "source": [
    "## Installazione package \n",
    "\n",
    "`pip install nome_libreria`\n",
    "\n",
    "nel caso di jupyter è:\n",
    "\n",
    "`pip install jupyter`\n"
   ]
  },
  {
   "cell_type": "code",
   "execution_count": null,
   "metadata": {},
   "outputs": [],
   "source": []
  }
 ],
 "metadata": {
  "language_info": {
   "name": "python"
  }
 },
 "nbformat": 4,
 "nbformat_minor": 2
}
