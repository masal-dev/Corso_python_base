{
 "cells": [
  {
   "cell_type": "markdown",
   "metadata": {},
   "source": [
    "# Decoratori - Le funzioni di funzioni\n",
    "\n",
    "Con i decoratori possiamo modificare il comportamento delle funzioni e renderle più potenti\n",
    "\n",
    "La funzione di base rimane la stessa, ma utilizzando il decoratore cambia il risultato. La stessa funzione può essere usata con diversi decoratori"
   ]
  },
  {
   "cell_type": "code",
   "execution_count": 3,
   "metadata": {},
   "outputs": [
    {
     "name": "stdout",
     "output_type": "stream",
     "text": [
      "cos'è una funzione per python? <function func_esempio at 0x7147bc7780d0> <class 'function'>\n",
      "non fa nulla oltre a questo print\n"
     ]
    }
   ],
   "source": [
    "def func_esempio():\n",
    "    print(\"non fa nulla oltre a questo print\")\n",
    "\n",
    "print(\"cos'è una funzione per python?\", func_esempio, type(func_esempio))\n",
    "func_esempio()"
   ]
  },
  {
   "cell_type": "markdown",
   "metadata": {},
   "source": [
    "### con sorpresa di nessuno..\n",
    "Le funzioni sono **oggetti**\n",
    "\n",
    "Potrei quindi definire una funzione che possa prendere come arg una funzione..."
   ]
  },
  {
   "cell_type": "code",
   "execution_count": 5,
   "metadata": {},
   "outputs": [
    {
     "name": "stdout",
     "output_type": "stream",
     "text": [
      "non fa nulla oltre a questo print\n"
     ]
    }
   ],
   "source": [
    "def func_test(f):\n",
    "    f()\n",
    "\n",
    "func_test(func_esempio)"
   ]
  },
  {
   "cell_type": "markdown",
   "metadata": {},
   "source": [
    "### Almeno non da errori\n",
    "\n",
    "Quindi posso chiamare una funzione che è stata passata come argomento in un'altra funzione.\n",
    "\n",
    "Potrei pensare ora di definire una funzione contenuta dentro un'altra funzione. Esempio:"
   ]
  },
  {
   "cell_type": "code",
   "execution_count": 11,
   "metadata": {},
   "outputs": [
    {
     "ename": "NameError",
     "evalue": "name 'contenitore' is not defined",
     "output_type": "error",
     "traceback": [
      "\u001b[0;31m---------------------------------------------------------------------------\u001b[0m",
      "\u001b[0;31mNameError\u001b[0m                                 Traceback (most recent call last)",
      "Cell \u001b[0;32mIn [11], line 8\u001b[0m\n\u001b[1;32m      5\u001b[0m         \u001b[38;5;28mprint\u001b[39m(\u001b[38;5;124m\"\u001b[39m\u001b[38;5;124marrivo\u001b[39m\u001b[38;5;124m\"\u001b[39m)\n\u001b[1;32m      6\u001b[0m     \u001b[38;5;28;01mreturn\u001b[39;00m contenitore\n\u001b[0;32m----> 8\u001b[0m \u001b[43mcontenitore\u001b[49m()\n",
      "\u001b[0;31mNameError\u001b[0m: name 'contenitore' is not defined"
     ]
    }
   ],
   "source": [
    "def esempio(fz):\n",
    "    def contenitore():\n",
    "        print(\"Partenza\")\n",
    "        fz()\n",
    "        print(\"arrivo\")\n",
    "    return contenitore\n",
    "\n",
    "# contenitore()"
   ]
  },
  {
   "cell_type": "markdown",
   "metadata": {},
   "source": [
    "### Chiamata di esempio\n",
    "\n",
    "Chiamando la funzione `esempio` ottengo come risultato un'oggetto che è la funzione `contenitore`"
   ]
  },
  {
   "cell_type": "code",
   "execution_count": 12,
   "metadata": {},
   "outputs": [
    {
     "data": {
      "text/plain": [
       "<function __main__.esempio.<locals>.contenitore()>"
      ]
     },
     "execution_count": 12,
     "metadata": {},
     "output_type": "execute_result"
    }
   ],
   "source": [
    "esempio(func_esempio)\n",
    "# print(type(esempio(func_esempio)))\n",
    "# print(type(esempio(print)))\n"
   ]
  },
  {
   "cell_type": "markdown",
   "metadata": {},
   "source": [
    "Essendo il ritorno una funzione posso usare la sintassi della chiamata di funzione"
   ]
  },
  {
   "cell_type": "code",
   "execution_count": 13,
   "metadata": {},
   "outputs": [
    {
     "name": "stdout",
     "output_type": "stream",
     "text": [
      "Partenza\n",
      "non fa nulla oltre a questo print\n",
      "arrivo\n"
     ]
    }
   ],
   "source": [
    "\n",
    "esempio(func_esempio)()\n"
   ]
  },
  {
   "cell_type": "code",
   "execution_count": 14,
   "metadata": {},
   "outputs": [
    {
     "name": "stdout",
     "output_type": "stream",
     "text": [
      "Partenza\n",
      "non fa nulla oltre a questo print\n",
      "arrivo\n"
     ]
    }
   ],
   "source": [
    "# o anche \n",
    "ritorno_esempio = esempio(func_esempio)\n",
    "ritorno_esempio()"
   ]
  },
  {
   "cell_type": "markdown",
   "metadata": {},
   "source": [
    "## Decoratore \n",
    "La funzione `esempio` è la definizione del decoratore \n",
    "\n",
    "La chiamata di un decoratore va fatta con il carattere `@`\n"
   ]
  },
  {
   "cell_type": "code",
   "execution_count": 15,
   "metadata": {},
   "outputs": [
    {
     "name": "stdout",
     "output_type": "stream",
     "text": [
      "Hello World!\n",
      "Partenza\n",
      "Hello World!\n",
      "arrivo\n"
     ]
    }
   ],
   "source": [
    "@esempio\n",
    "def funzione_banale():\n",
    "    print(\"Hello World!\")\n",
    "\n",
    "funzione_banale()\n"
   ]
  },
  {
   "cell_type": "markdown",
   "metadata": {},
   "source": [
    "### Passaggio parametri\n",
    "\n",
    "Dal momento che il decoratore deve essere il più generale possibile, nel momento in cui deve gestire argomenti, la strategia migliore è usare `*args` e `**kwargs`\n",
    "\n"
   ]
  },
  {
   "cell_type": "code",
   "execution_count": 17,
   "metadata": {},
   "outputs": [
    {
     "name": "stdout",
     "output_type": "stream",
     "text": [
      "Partenza\n",
      "1100\n",
      "arrivo\n"
     ]
    }
   ],
   "source": [
    "def esempio_args(fz):\n",
    "    def contenitore(*args, **kwargs):\n",
    "        print(\"Partenza\")\n",
    "        fz(*args, **kwargs)\n",
    "        print(\"arrivo\")\n",
    "    return contenitore\n",
    "\n",
    "@esempio_args\n",
    "def addizione_due_num(a:int, b:int):\n",
    "    print(a + b)\n",
    "\n",
    "addizione_due_num(b=100, a=1000)\n"
   ]
  },
  {
   "cell_type": "code",
   "execution_count": 18,
   "metadata": {},
   "outputs": [
    {
     "name": "stdout",
     "output_type": "stream",
     "text": [
      "Partenza\n",
      "arrivo\n",
      "None\n"
     ]
    }
   ],
   "source": [
    "## Problema: funzione con ritorno \n",
    "@esempio_args\n",
    "def due_num_return(a, b):\n",
    "    return a + b \n",
    "\n",
    "print(due_num_return(5,6))\n"
   ]
  },
  {
   "cell_type": "markdown",
   "metadata": {},
   "source": [
    "**Come mai torna `None`??**\n"
   ]
  },
  {
   "cell_type": "code",
   "execution_count": 20,
   "metadata": {},
   "outputs": [
    {
     "name": "stdout",
     "output_type": "stream",
     "text": [
      "Parte la chiamata\n",
      "Terminata.\n"
     ]
    },
    {
     "data": {
      "text/plain": [
       "7"
      ]
     },
     "execution_count": 20,
     "metadata": {},
     "output_type": "execute_result"
    }
   ],
   "source": [
    "def decoratore(fz, fz_1):\n",
    "    def wrapper(*args, **kwargs):\n",
    "        print(\"Parte la chiamata\")\n",
    "        res = fz(*args, **kwargs)\n",
    "        print(\"Terminata.\")\n",
    "        return res\n",
    "    return wrapper\n",
    "\n",
    "@decoratore\n",
    "def due_num_return(a, b):\n",
    "    return a + b\n",
    "\n",
    "due_num_return(3,4)"
   ]
  },
  {
   "cell_type": "markdown",
   "metadata": {},
   "source": [
    "## decoratore multifunzione "
   ]
  },
  {
   "cell_type": "code",
   "execution_count": null,
   "metadata": {},
   "outputs": [],
   "source": [
    "def decoratore(fz, fz_1):\n",
    "    def wrapper(*args, **kwargs):\n",
    "        print(\"Parte la chiamata\")\n",
    "        res = fz(*args, **kwargs)\n",
    "        print(\"Terminata.\")\n",
    "        return res\n",
    "    def wrapper_1(*args, **kwarg):\n",
    "        print(\"Seconda Funzione\")\n",
    "        res = fz(*args, **kwargs)\n",
    "        print(\"Fine seconda funzione\")\n",
    "    return wrapper\n",
    "\n",
    "@decoratore\n",
    "def due_num_return(a, b):\n",
    "    return a + b\n",
    "\n",
    "due_num_return(3,4)"
   ]
  },
  {
   "cell_type": "code",
   "execution_count": null,
   "metadata": {},
   "outputs": [],
   "source": []
  },
  {
   "cell_type": "code",
   "execution_count": null,
   "metadata": {},
   "outputs": [],
   "source": []
  },
  {
   "cell_type": "code",
   "execution_count": 3,
   "metadata": {},
   "outputs": [],
   "source": [
    "from time import time \n",
    "from datetime import datetime\n",
    "\n"
   ]
  },
  {
   "cell_type": "markdown",
   "metadata": {},
   "source": [
    "**Mettiamo in pratica ** scrivere un decoratore che stampa data e ora della chiamata di una funzione\n"
   ]
  },
  {
   "cell_type": "code",
   "execution_count": 8,
   "metadata": {},
   "outputs": [],
   "source": [
    "def test_tempo_esecuzione(fz):\n",
    "    def wrapper(*args, **kwargs):\n",
    "        partenza = time()\n",
    "        fz(*args, **kwargs)\n",
    "        conclusione = time()\n",
    "        print(f\"la funzione ha impiegato {(conclusione - partenza):.4f} per essere eseguita\")\n",
    "        tempo = conclusione - partenza\n",
    "        return fz(*args, **kwargs)\n",
    "    return wrapper\n",
    "\n"
   ]
  },
  {
   "cell_type": "code",
   "execution_count": 10,
   "metadata": {},
   "outputs": [
    {
     "ename": "TypeError",
     "evalue": "'module' object is not callable",
     "output_type": "error",
     "traceback": [
      "\u001b[0;31m---------------------------------------------------------------------------\u001b[0m",
      "\u001b[0;31mTypeError\u001b[0m                                 Traceback (most recent call last)",
      "Cell \u001b[0;32mIn [10], line 18\u001b[0m\n\u001b[1;32m     15\u001b[0m         fino_a \u001b[38;5;241m-\u001b[39m\u001b[38;5;241m=\u001b[39m \u001b[38;5;241m1\u001b[39m\n\u001b[1;32m     16\u001b[0m     \u001b[38;5;28;01mreturn\u001b[39;00m tot\n\u001b[0;32m---> 18\u001b[0m \u001b[38;5;28mprint\u001b[39m(\u001b[38;5;124m\"\u001b[39m\u001b[38;5;124miter\u001b[39m\u001b[38;5;124m\"\u001b[39m, \u001b[43msomma_num_iter\u001b[49m\u001b[43m(\u001b[49m\u001b[38;5;241;43m300\u001b[39;49m\u001b[43m)\u001b[49m)\n",
      "Cell \u001b[0;32mIn [8], line 3\u001b[0m, in \u001b[0;36mtest_tempo_esecuzione.<locals>.wrapper\u001b[0;34m(*args, **kwargs)\u001b[0m\n\u001b[1;32m      2\u001b[0m \u001b[38;5;28;01mdef\u001b[39;00m \u001b[38;5;21mwrapper\u001b[39m(\u001b[38;5;241m*\u001b[39margs, \u001b[38;5;241m*\u001b[39m\u001b[38;5;241m*\u001b[39mkwargs):\n\u001b[0;32m----> 3\u001b[0m     partenza \u001b[38;5;241m=\u001b[39m \u001b[43mtime\u001b[49m\u001b[43m(\u001b[49m\u001b[43m)\u001b[49m\n\u001b[1;32m      4\u001b[0m     fz(\u001b[38;5;241m*\u001b[39margs, \u001b[38;5;241m*\u001b[39m\u001b[38;5;241m*\u001b[39mkwargs)\n\u001b[1;32m      5\u001b[0m     conclusione \u001b[38;5;241m=\u001b[39m time()\n",
      "\u001b[0;31mTypeError\u001b[0m: 'module' object is not callable"
     ]
    }
   ],
   "source": [
    "# @test_tempo_esecuzione\n",
    "# def somma_num_rec(fino_a:int) -> int:\n",
    "#     if fino_a >= 1:\n",
    "#         return fino_a + somma_num_rec(fino_a - 1)\n",
    "#     else:\n",
    "#         return fino_a\n",
    "\n",
    "# print(\"rec\", somma_num_rec(300))\n",
    "\n",
    "@test_tempo_esecuzione\n",
    "def somma_num_iter(fino_a:int) -> int:\n",
    "    tot = 0\n",
    "    while fino_a >= 0:\n",
    "        tot += fino_a\n",
    "        fino_a -= 1\n",
    "    return tot\n",
    "\n",
    "print(\"iter\", somma_num_iter(300))"
   ]
  }
 ],
 "metadata": {
  "kernelspec": {
   "display_name": "Python 3",
   "language": "python",
   "name": "python3"
  },
  "language_info": {
   "codemirror_mode": {
    "name": "ipython",
    "version": 3
   },
   "file_extension": ".py",
   "mimetype": "text/x-python",
   "name": "python",
   "nbconvert_exporter": "python",
   "pygments_lexer": "ipython3",
   "version": "3.10.12"
  }
 },
 "nbformat": 4,
 "nbformat_minor": 2
}
