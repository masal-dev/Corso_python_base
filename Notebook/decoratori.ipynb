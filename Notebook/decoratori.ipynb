{
 "cells": [
  {
   "cell_type": "markdown",
   "metadata": {},
   "source": [
    "# Decoratori - Le funzioni di funzioni\n",
    "\n",
    "Con i decoratori possiamo modificare il comportamento delle funzioni e renderle più potenti\n",
    "\n",
    "La funzione di base rimane la stessa, ma utilizzando il decoratore cambia il risultato. La stessa funzione può essere usata con diversi decoratori"
   ]
  },
  {
   "cell_type": "code",
   "execution_count": 3,
   "metadata": {},
   "outputs": [
    {
     "name": "stdout",
     "output_type": "stream",
     "text": [
      "cos'è una funzione per python? <function func_esempio at 0x7387786acca0> <class 'function'>\n"
     ]
    }
   ],
   "source": [
    "def func_esempio():\n",
    "    print(\"non fa nulla oltre a questo print\")\n",
    "\n",
    "print(\"cos'è una funzione per python?\", func_esempio, type(func_esempio))"
   ]
  },
  {
   "cell_type": "markdown",
   "metadata": {},
   "source": [
    "### con sorpresa di nessuno..\n",
    "Le funzioni sono **oggetti**\n",
    "\n",
    "Potrei quindi definire una funzione che possa prendere come arg una funzione..."
   ]
  },
  {
   "cell_type": "code",
   "execution_count": 5,
   "metadata": {},
   "outputs": [
    {
     "name": "stdout",
     "output_type": "stream",
     "text": [
      "non fa nulla oltre a questo print\n"
     ]
    }
   ],
   "source": [
    "def func_test(f):\n",
    "    f()\n",
    "\n",
    "func_test(func_esempio)"
   ]
  },
  {
   "cell_type": "markdown",
   "metadata": {},
   "source": [
    "### Almeno non da errori\n",
    "\n",
    "Quindi posso chiamare una funzione che è stata passata come argomento in un'altra funzione.\n",
    "\n",
    "Potrei pensare ora di definire una funzione contenuta dentro un'altra funzione. Esempio:"
   ]
  },
  {
   "cell_type": "code",
   "execution_count": 7,
   "metadata": {},
   "outputs": [],
   "source": [
    "def esempio(fz):\n",
    "    def contenitore():\n",
    "        print(\"Partenza\")\n",
    "        fz()\n",
    "        print(\"arrivo\")\n",
    "    return contenitore"
   ]
  },
  {
   "cell_type": "markdown",
   "metadata": {},
   "source": [
    "### Chiamata di esempio\n",
    "\n",
    "Chiamando la funzione `esempio` ottengo come risultato un'oggetto che è la funzione `contenitore`"
   ]
  },
  {
   "cell_type": "code",
   "execution_count": 10,
   "metadata": {},
   "outputs": [
    {
     "name": "stdout",
     "output_type": "stream",
     "text": [
      "<class 'function'>\n",
      "<class 'function'>\n"
     ]
    }
   ],
   "source": [
    "esempio(func_esempio)\n",
    "print(type(esempio(func_esempio)))\n",
    "print(type(esempio(print)))\n"
   ]
  },
  {
   "cell_type": "markdown",
   "metadata": {},
   "source": [
    "Essendo il ritorno una funzione posso usare la sintassi della chiamata di funzione"
   ]
  },
  {
   "cell_type": "code",
   "execution_count": 12,
   "metadata": {},
   "outputs": [
    {
     "name": "stdout",
     "output_type": "stream",
     "text": [
      "Partenza\n",
      "non fa nulla oltre a questo print\n",
      "arrivo\n"
     ]
    }
   ],
   "source": [
    "\n",
    "esempio(func_esempio)()\n"
   ]
  },
  {
   "cell_type": "code",
   "execution_count": 11,
   "metadata": {},
   "outputs": [
    {
     "name": "stdout",
     "output_type": "stream",
     "text": [
      "Partenza\n",
      "non fa nulla oltre a questo print\n",
      "arrivo\n"
     ]
    }
   ],
   "source": [
    "# o anche \n",
    "ritorno_esempio = esempio(func_esempio)\n",
    "ritorno_esempio()"
   ]
  },
  {
   "cell_type": "markdown",
   "metadata": {},
   "source": [
    "## Decoratore \n",
    "La funzione `esempio` è la definizione del decoratore \n",
    "\n",
    "La chiamata di un decoratore va fatta con il carattere `@`\n"
   ]
  },
  {
   "cell_type": "code",
   "execution_count": 14,
   "metadata": {},
   "outputs": [
    {
     "name": "stdout",
     "output_type": "stream",
     "text": [
      "Partenza\n",
      "Hello World!\n",
      "arrivo\n"
     ]
    }
   ],
   "source": [
    "@esempio\n",
    "def funzione_banale():\n",
    "    print(\"Hello World!\")\n",
    "\n",
    "funzione_banale()"
   ]
  },
  {
   "cell_type": "markdown",
   "metadata": {},
   "source": [
    "### Passaggio parametri\n",
    "\n",
    "Dal momento che il decoratore deve essere il più generale possibile, nel momento in cui deve gestire argomenti, la strategia migliore è usare `*args` e `**kwargs`\n",
    "\n"
   ]
  },
  {
   "cell_type": "code",
   "execution_count": 21,
   "metadata": {},
   "outputs": [
    {
     "name": "stdout",
     "output_type": "stream",
     "text": [
      "Partenza\n",
      "11\n",
      "arrivo\n",
      "None\n"
     ]
    }
   ],
   "source": [
    "def esempio_args(fz):\n",
    "    def contenitore(*args, **kwargs):\n",
    "        print(\"Partenza\")\n",
    "        fz(*args, **kwargs)\n",
    "        print(\"arrivo\")\n",
    "    return contenitore\n",
    "\n",
    "@esempio_args\n",
    "def addizione_due_num(a:int, b:int):\n",
    "    print(a + b)\n",
    "\n",
    "addizione_due_num(5,6)\n"
   ]
  },
  {
   "cell_type": "code",
   "execution_count": 24,
   "metadata": {},
   "outputs": [
    {
     "name": "stdout",
     "output_type": "stream",
     "text": [
      "Partenza\n",
      "arrivo\n",
      "None\n"
     ]
    }
   ],
   "source": [
    "## Problema: funzione con ritorno \n",
    "@esempio_args\n",
    "def due_num_return(a, b):\n",
    "    return a + b \n",
    "\n",
    "print(due_num_return(5,6))\n"
   ]
  },
  {
   "cell_type": "markdown",
   "metadata": {},
   "source": [
    "**Come mai torna `None`??**\n"
   ]
  },
  {
   "cell_type": "code",
   "execution_count": 25,
   "metadata": {},
   "outputs": [],
   "source": [
    "import time \n",
    "from datetime import datetime\n",
    "\n"
   ]
  },
  {
   "cell_type": "markdown",
   "metadata": {},
   "source": [
    "**Mettiamo in pratica ** scrivere un decoratore che stampa data e ora della chiamata di una funzione\n"
   ]
  }
 ],
 "metadata": {
  "kernelspec": {
   "display_name": "Python 3",
   "language": "python",
   "name": "python3"
  },
  "language_info": {
   "codemirror_mode": {
    "name": "ipython",
    "version": 3
   },
   "file_extension": ".py",
   "mimetype": "text/x-python",
   "name": "python",
   "nbconvert_exporter": "python",
   "pygments_lexer": "ipython3",
   "version": "3.10.12"
  }
 },
 "nbformat": 4,
 "nbformat_minor": 2
}
