{
 "cells": [
  {
   "cell_type": "markdown",
   "metadata": {},
   "source": [
    "# Application Programming Interface\n",
    "\n",
    "Sono un interfaccia per poter sfruttare un sistema o un servizio senza doverci preoccupare di come è implementato"
   ]
  },
  {
   "cell_type": "code",
   "execution_count": 3,
   "metadata": {},
   "outputs": [],
   "source": [
    "import requests\n",
    "import os \n",
    "from dotenv import load_dotenv\n"
   ]
  },
  {
   "cell_type": "markdown",
   "metadata": {},
   "source": [
    "### Chiavi di accesso\n",
    "\n",
    "Utilizzare le API significa sfruttare il sistema di qualcun'altro, per fare questo è necessario ottenere l'autorizzazione (e a volte pagare per il servizio). L'autorizzizazione è gestita tramite chiavi, che ci vengono date al momento della sottoscrizione del servizio e dobbiamo utilizzare ogni volta che mandiamo una richiesta.\n",
    "\n",
    "Per utilizzare [openWeatherMaps](https://openweathermap.org/api) collegarsi al sito e completare la registrazione per ottenere una chiave API. "
   ]
  },
  {
   "cell_type": "markdown",
   "metadata": {},
   "source": [
    "### DOTENV\n",
    "\n",
    "Solitamente le chiavi api non vengono manipolate 'in chiaro' nel codice, questo perché se devo condividere il progetto con altri non voglio che possano effettuare le chiamate usando il mio token (potenzialmente facendomi pagare per il servizio). Quindi si caricano come variabili di sistema con la libreria dotenv e possono essere recuperati con `os.getenv()` o con `os.environ`"
   ]
  },
  {
   "cell_type": "markdown",
   "metadata": {},
   "source": [
    "**Installare dotenv**\n",
    "\n",
    "La libreria dotenv si installa con pip:\n",
    "\n",
    "`pip install python-dotenv`"
   ]
  },
  {
   "cell_type": "code",
   "execution_count": 4,
   "metadata": {},
   "outputs": [],
   "source": [
    "load_dotenv(\".env\")\n",
    "API: str = os.getenv(\"API_KEY\")\n",
    "api1: str = os.environ.get(\"API_KEY\")\n"
   ]
  },
  {
   "cell_type": "markdown",
   "metadata": {},
   "source": [
    "### Chiamare un API \n",
    "\n",
    "Ora che abbiamo le chiavi il meno è fatto. Infatti ora dobbiamo capire come mandare le richieste e come utilizzare le risposte.\n",
    "\n",
    "Perciò, non essendo nostro il codice dell'API, dobbiamo studiare la documentazione fornita da chi ci offre il servizio. [Clicca QUI](https://openweathermap.org/current)"
   ]
  },
  {
   "cell_type": "markdown",
   "metadata": {},
   "source": [
    "### Request\n",
    "\n",
    "Ci serve conoscere:\n",
    "- il link a cui mandare la richiesta \n",
    "- il tipo di richiesta (GET, POST, PUT, DELETE, PATCH)\n",
    "- la chiave\n",
    "\n",
    "Per capire come utilizzare al meglio le API possiamo avvalerci di client (tipo [postman](https://marketplace.visualstudio.com/items?itemName=Postman.postman-for-vscode) oppure [thunder](https://marketplace.visualstudio.com/items?itemName=rangav.vscode-thunder-client))"
   ]
  },
  {
   "cell_type": "code",
   "execution_count": 5,
   "metadata": {},
   "outputs": [],
   "source": [
    "citta = \"Bologna\"\n",
    "cod_naz = \"it\"\n",
    "url = f\"https://api.openweathermap.org/data/2.5/weather?q={citta},{cod_naz}&appid={API}\""
   ]
  },
  {
   "cell_type": "code",
   "execution_count": 8,
   "metadata": {},
   "outputs": [
    {
     "data": {
      "text/plain": [
       "<Response [200]>"
      ]
     },
     "execution_count": 8,
     "metadata": {},
     "output_type": "execute_result"
    }
   ],
   "source": [
    "risposta = requests.get(url)\n",
    "# risposta.content\n",
    "risposta"
   ]
  },
  {
   "cell_type": "markdown",
   "metadata": {},
   "source": [
    "\n",
    "Per utilizzare al meglio i dati posso utilizzare il metodo json"
   ]
  },
  {
   "cell_type": "code",
   "execution_count": 9,
   "metadata": {},
   "outputs": [
    {
     "data": {
      "text/plain": [
       "{'coord': {'lon': 11.4333, 'lat': 44.4667},\n",
       " 'weather': [{'id': 800,\n",
       "   'main': 'Clear',\n",
       "   'description': 'clear sky',\n",
       "   'icon': '01n'}],\n",
       " 'base': 'stations',\n",
       " 'main': {'temp': 290.88,\n",
       "  'feels_like': 290.61,\n",
       "  'temp_min': 287.81,\n",
       "  'temp_max': 292,\n",
       "  'pressure': 1013,\n",
       "  'humidity': 73},\n",
       " 'visibility': 10000,\n",
       " 'wind': {'speed': 4.12, 'deg': 190},\n",
       " 'clouds': {'all': 0},\n",
       " 'dt': 1717451274,\n",
       " 'sys': {'type': 2,\n",
       "  'id': 2044440,\n",
       "  'country': 'IT',\n",
       "  'sunrise': 1717385510,\n",
       "  'sunset': 1717440806},\n",
       " 'timezone': 7200,\n",
       " 'id': 3181927,\n",
       " 'name': 'Bologna',\n",
       " 'cod': 200}"
      ]
     },
     "execution_count": 9,
     "metadata": {},
     "output_type": "execute_result"
    }
   ],
   "source": [
    "risposta.json()"
   ]
  },
  {
   "cell_type": "markdown",
   "metadata": {},
   "source": [
    "## RISORSE UTILI\n",
    "\n",
    "- Sito che raccoglie molti servizi API gratis e a pagamento: [RapidAPI](https://rapidapi.com)\n",
    "- Libreria di python per generare e far girare servizi API: [FastAPI](https://fastapi.tiangolo.com/)"
   ]
  }
 ],
 "metadata": {
  "kernelspec": {
   "display_name": "Python 3",
   "language": "python",
   "name": "python3"
  },
  "language_info": {
   "codemirror_mode": {
    "name": "ipython",
    "version": 3
   },
   "file_extension": ".py",
   "mimetype": "text/x-python",
   "name": "python",
   "nbconvert_exporter": "python",
   "pygments_lexer": "ipython3",
   "version": "3.10.12"
  }
 },
 "nbformat": 4,
 "nbformat_minor": 2
}
