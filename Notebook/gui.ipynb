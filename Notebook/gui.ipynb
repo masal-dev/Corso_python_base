{
 "cells": [
  {
   "cell_type": "markdown",
   "metadata": {},
   "source": [
    "# GUI - Graphical User Interface \n",
    "\n",
    "L'interfaccia grafica è quella che permette e facilita l'interazione dell'utente con il programma.\n",
    "\n",
    "Finora abbiamo usato il terminale e passato parametri in diversi modi, tuttavia non è un approccio user friendly, per script fatti da noi per noi (o per altri programmatori), il terminale può essere un ottimo modo per interagire con il programma. Se vogliamo semplificare la vita agli utenti, è necessario predisporre un'interazione con elementi grafici.\n",
    "\n",
    "### Programmazione a eventi\n",
    "\n",
    "Un'interfaccia grafica si basa sull'interazione con l'utente. Si tratta in sostanza di un loop che aspetta continuamente che accada qualcosa (evento) per poter generare un cambiamento nell'aspetto o nei dati.\n",
    "\n",
    "\n",
    "### Librerie per python\n",
    "\n",
    "1) [Tkinter](https://docs.python.org/3/library/tkinter.html) - built-in gui di python è una libreria che ci permette di utilizzare il [Tcl/Tk GUI toolkit](https://www.tcl.tk/) con python.\n",
    "2) [Kivy](https://kivy.org/doc/stable/gettingstarted/intro.html) - permette di creare gui che possono essere compilate per Windows, Linux, Android, è più recente ma non troppo complesso."
   ]
  },
  {
   "cell_type": "markdown",
   "metadata": {},
   "source": [
    "### Struttura del Codice\n",
    "\n",
    "Le librerie sono molte e diverse e nascondono diversi ambienti grafici e strumenti, però alcuni aspetti di base si ritrovano praticamente in tutte le librerie:\n",
    "- L'oggetto principale che contiene i metodi per far funzionare la gui\n",
    "- Dentro ques'oggetto esiste un metodo che è il loop della gui\n",
    "- Si creano altri oggetti che rappresentano gli elementi dell'interfaccia \n",
    "- Esistono una serie di elementi, oggetti o metodi per gestire gli eventi (pressione di bottoni, scroll, posizione puntatore ecc...)"
   ]
  },
  {
   "cell_type": "code",
   "execution_count": 10,
   "metadata": {},
   "outputs": [],
   "source": [
    "from tkinter import *\n",
    "from tkinter import ttk\n",
    "\n",
    "root = Tk()\n",
    "frm = ttk.Frame(root, padding=10)\n",
    "frm.grid()\n",
    "ttk.Label(frm, text=\"Hello World!\").grid(column=0, row=0)\n",
    "ttk.Button(frm, text=\"Quit\", command=root.destroy).grid(column=1, row=0)\n",
    "root.mainloop()"
   ]
  },
  {
   "cell_type": "code",
   "execution_count": 37,
   "metadata": {},
   "outputs": [],
   "source": [
    "veicoli = Tk()\n",
    "\n",
    "frm = ttk.Frame(veicoli)\n",
    "frm.grid()\n",
    "\n",
    "# Marca Label and Entry\n",
    "ttk.Label(frm, text=\"Marca: \").grid(column=0, row=0)\n",
    "marca = StringVar()\n",
    "input_marca = ttk.Entry(frm, textvariable=marca)\n",
    "input_marca.grid(column=1, row=0)\n",
    "marca.set(\"Inserire la marca del veicolo\")\n",
    "\n",
    "# Modello Label and Entry\n",
    "ttk.Label(frm, text=\"Modello: \").grid(column=0, row=1)\n",
    "modello = StringVar()\n",
    "input_modello = ttk.Entry(frm, textvariable=modello)\n",
    "input_modello.grid(column=1, row=1)\n",
    "modello.set(\"Inserire il modello del veicolo\")\n",
    "\n",
    "# Funzione chiamata quando si preme il pulsante\n",
    "def mostra_testo():\n",
    "    marca_val = marca.get()\n",
    "    modello_val = modello.get()\n",
    "    label_testo.config(text=f\"Marca: {marca_val}, Modello: {modello_val}\")\n",
    "\n",
    "# Insert Button\n",
    "btn_input = ttk.Button(frm, text=\"Inserisci\", command=mostra_testo)\n",
    "btn_input.grid(column=1, row=2)\n",
    "\n",
    "# Label per mostrare il testo inserito\n",
    "label_testo = ttk.Label(frm, text=\"\")\n",
    "label_testo.grid(column=0, row=3, columnspan=2)\n",
    "\n",
    "\n",
    "\n",
    "# Start the main loop\n",
    "veicoli.mainloop()"
   ]
  },
  {
   "cell_type": "code",
   "execution_count": 3,
   "metadata": {},
   "outputs": [],
   "source": [
    "from kivy.app import App\n",
    "from kivy.uix.label import Label\n",
    "from kivy.logger import Logger"
   ]
  },
  {
   "cell_type": "code",
   "execution_count": 7,
   "metadata": {},
   "outputs": [],
   "source": [
    "class MyApp(App, Logger):\n",
    "\n",
    "    def build(self):\n",
    "        \n",
    "        return Label(text=\"Hello World!\")\n",
    "    \n",
    "gui = MyApp()\n",
    "gui.run()"
   ]
  }
 ],
 "metadata": {
  "kernelspec": {
   "display_name": "Python 3",
   "language": "python",
   "name": "python3"
  },
  "language_info": {
   "codemirror_mode": {
    "name": "ipython",
    "version": 3
   },
   "file_extension": ".py",
   "mimetype": "text/x-python",
   "name": "python",
   "nbconvert_exporter": "python",
   "pygments_lexer": "ipython3",
   "version": "3.10.12"
  }
 },
 "nbformat": 4,
 "nbformat_minor": 2
}
