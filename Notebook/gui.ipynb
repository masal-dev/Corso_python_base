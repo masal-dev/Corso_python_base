{
 "cells": [
  {
   "cell_type": "markdown",
   "metadata": {},
   "source": [
    "# GUI - Graphical User Interface \n",
    "\n",
    "L'interfaccia grafica è quella che permette e facilita l'interazione dell'utente con il programma.\n",
    "\n",
    "Finora abbiamo usato il terminale e passato parametri in diversi modi, tuttavia non è un approccio user friendly, per script fatti da noi per noi (o per altri programmatori), il terminale può essere un ottimo modo per interagire con il programma. Se vogliamo semplificare la vita agli utenti, è necessario predisporre un'interazione con elementi grafici.\n",
    "\n",
    "### Programmazione a eventi\n",
    "\n",
    "Un'interfaccia grafica si basa sull'interazione con l'utente. Si tratta in sostanza di un loop che aspetta continuamente che accada qualcosa (evento) per poter generare un cambiamento nell'aspetto o nei dati.\n",
    "\n",
    "\n",
    "### Librerie per python\n",
    "\n",
    "1) [Tkinter](https://docs.python.org/3/library/tkinter.html) - built-in gui di python è una libreria che ci permette di utilizzare il [Tcl/Tk GUI toolkit](https://www.tcl.tk/) con python.\n",
    "2) [Kivy](https://kivy.org/doc/stable/gettingstarted/intro.html) - permette di creare gui che possono essere compilate per Windows, Linux, Android, è più recente ma non troppo complesso."
   ]
  },
  {
   "cell_type": "markdown",
   "metadata": {},
   "source": [
    "### Struttura del Codice\n",
    "\n",
    "Le librerie sono molte e diverse e nascondono diversi ambienti grafici e strumenti, però alcuni aspetti di base si ritrovano praticamente in tutte le librerie:\n",
    "- L'oggetto principale che contiene i metodi per far funzionare la gui\n",
    "- Dentro ques'oggetto esiste un metodo che è il loop della gui\n",
    "- Si creano altri oggetti che rappresentano gli elementi dell'interfaccia \n",
    "- Esistono una serie di elementi, oggetti o metodi per gestire gli eventi (pressione di bottoni, scroll, posizione puntatore ecc...)"
   ]
  },
  {
   "cell_type": "code",
   "execution_count": 10,
   "metadata": {},
   "outputs": [],
   "source": [
    "from tkinter import *\n",
    "from tkinter import ttk\n",
    "\n",
    "root = Tk()\n",
    "frm = ttk.Frame(root, padding=10)\n",
    "frm.grid()\n",
    "ttk.Label(frm, text=\"Hello World!\").grid(column=0, row=0)\n",
    "ttk.Button(frm, text=\"Quit\", command=root.destroy).grid(column=1, row=0)\n",
    "root.mainloop()"
   ]
  },
  {
   "cell_type": "markdown",
   "metadata": {},
   "source": [
    "notare che il cuore dell'app è l'oggetto root che viene istanziato dalla classe Tk()\n",
    "\n",
    "il frame è una struttura che permette di gestire l'organizzazione e la visualizzazione degli elementi grafici\n"
   ]
  },
  {
   "cell_type": "code",
   "execution_count": 37,
   "metadata": {},
   "outputs": [],
   "source": [
    "veicoli = Tk()\n",
    "\n",
    "frm = ttk.Frame(veicoli)\n",
    "frm.grid()\n",
    "\n",
    "# Marca Label and Entry\n",
    "ttk.Label(frm, text=\"Marca: \").grid(column=0, row=0)\n",
    "marca = StringVar()\n",
    "input_marca = ttk.Entry(frm, textvariable=marca)\n",
    "input_marca.grid(column=1, row=0)\n",
    "marca.set(\"Inserire la marca del veicolo\")\n",
    "\n",
    "# Modello Label and Entry\n",
    "ttk.Label(frm, text=\"Modello: \").grid(column=0, row=1)\n",
    "modello = StringVar()\n",
    "input_modello = ttk.Entry(frm, textvariable=modello)\n",
    "input_modello.grid(column=1, row=1)\n",
    "modello.set(\"Inserire il modello del veicolo\")\n",
    "\n",
    "# Funzione chiamata quando si preme il pulsante\n",
    "def mostra_testo():\n",
    "    marca_val = marca.get()\n",
    "    modello_val = modello.get()\n",
    "    label_testo.config(text=f\"Marca: {marca_val}, Modello: {modello_val}\")\n",
    "\n",
    "# Insert Button\n",
    "btn_input = ttk.Button(frm, text=\"Inserisci\", command=mostra_testo)\n",
    "btn_input.grid(column=1, row=2)\n",
    "\n",
    "# Label per mostrare il testo inserito\n",
    "label_testo = ttk.Label(frm, text=\"\")\n",
    "label_testo.grid(column=0, row=3, columnspan=2)\n",
    "\n",
    "\n",
    "\n",
    "# Start the main loop\n",
    "veicoli.mainloop()"
   ]
  },
  {
   "cell_type": "markdown",
   "metadata": {},
   "source": [
    "**Al bottone** \"inserisci\" viene associata la funzione da eseguire alla pressione del bottone stesso\n"
   ]
  },
  {
   "cell_type": "markdown",
   "metadata": {},
   "source": [
    "## Libreria Kivy\n",
    "\n",
    "Essendo più moderna ha molte più funzionalità e widget, rispetto a tkinter, consente una gestione più granulare degli eventi, ha già molte funzionalità pensate per lavorare su sistemi android.\n"
   ]
  },
  {
   "cell_type": "code",
   "execution_count": 3,
   "metadata": {},
   "outputs": [],
   "source": [
    "from kivy.app import App\n",
    "from kivy.uix.label import Label\n",
    "from kivy.uix.gridlayout import GridLayout\n",
    "from kivy.logger import Logger"
   ]
  },
  {
   "cell_type": "markdown",
   "metadata": {},
   "source": [
    "### Ereditarietà del codice\n",
    "\n",
    "La classe principale è app, anzichè instanziare direttamente un oggetto da app, vado a creare una classe che eredita App"
   ]
  },
  {
   "cell_type": "code",
   "execution_count": 7,
   "metadata": {},
   "outputs": [],
   "source": [
    "class MyApp(App):\n",
    "\n",
    "    def build(self):\n",
    "        Logger.debug(\"build app\")\n",
    "        return Label(text=\"Hello World!\")\n",
    "\n",
    "gui = MyApp()\n",
    "gui.run()"
   ]
  },
  {
   "cell_type": "markdown",
   "metadata": {},
   "source": [
    "### Oggetti in kivy\n",
    "\n",
    "Essendo molto grande come libreria, è stata suddivisa in sezioni che si occupano ciascuna di un aspetto del funzionamento della GUI.\n",
    "\n",
    "\n",
    "- la classe principale *app* sta in `kivy.app`\n",
    "- tutti gli oggetti da inserire e con cui l'utente interagisce sono in `kivy.uix...` (label, bottoni, widget, e i diversi layout)\n",
    "- oggetti grafici si trovano in `kivy.\n",
    "- ciò che riguarda le specifiche dello schermo con cui stiamo lavorando sta in `kivy.metrics` utile ad esempio per gestire schermi di diverse dimensioni\n",
    "- le misure del tempo e differenze di tempo stanno in `kivy.clock`\n",
    "- il logger che serve per tenere traccia dell'app in runtime si trova in `kivy.logger`\n"
   ]
  },
  {
   "cell_type": "markdown",
   "metadata": {},
   "source": [
    "### Eventi\n",
    "\n",
    "La gestione degli eventi può essere fatta tramite funzioni (metodi) che risiedono nei widget, quindi basata sull'interazione con gli oggetti.\n",
    "\n",
    "Alternativamente può essere fatta tramite schedulazione ovvero a intervalli di tempo.\n",
    "\n",
    "Si "
   ]
  },
  {
   "cell_type": "code",
   "execution_count": 2,
   "metadata": {},
   "outputs": [],
   "source": [
    "from kivy.clock import Clock\n",
    "\n",
    "\n",
    "class MovingWidget(Widget):\n",
    "    def __init__(self, **kwargs):\n",
    "        super(MovingWidget, self).__init__(**kwargs)\n",
    "        with self.canvas:\n",
    "            self.rect = Rectangle(pos=(100, 100), size=(50, 50)) # type: ignore\n",
    "        self.velocity_x = 100  # Pixel per secondo\n",
    "        Clock.schedule_interval(self.update, 1 / 60.)  # 60 volte al secondo\n",
    "\n",
    "    def update(self, dt):\n",
    "        self.rect.pos = (self.rect.pos[0] + self.velocity_x * dt, self.rect.pos[1])"
   ]
  },
  {
   "cell_type": "markdown",
   "metadata": {},
   "source": [
    "**Bottone collegato a evento**"
   ]
  },
  {
   "cell_type": "code",
   "execution_count": null,
   "metadata": {},
   "outputs": [],
   "source": [
    "from kivy.uix.textinput import TextInput\n",
    "\n",
    "class InputVeicolo(GridLayout):\n",
    "\n",
    "    def __init__(self, **kwargs):\n",
    "        super(InputVeicolo, self).__init__(**kwargs)\n",
    "\n",
    "        self.mostra_veicolo = Button(text=\"Mostra Dati Inseriti\")\n",
    "        self.add_widget(self.mostra_veicolo)\n",
    "        self.mostra_veicolo.bind(on_release=self.mostra_dati)\n",
    "        \n",
    "        # Etichetta per mostrare i dati inseriti\n",
    "        self.dati_label = Label(text=\"\")\n",
    "        self.add_widget(self.dati_label)\n",
    "\n",
    "\n",
    "    def mostra_dati(self, btn):\n",
    "        Logger.info(\"Cliccato mostra dati\")\n",
    "        self.dati_label.text = f\"Inserimento veicolo: mostra qui i dati\""
   ]
  },
  {
   "cell_type": "markdown",
   "metadata": {},
   "source": [
    "Notare come viene collegato il bottone alla funzione di 'callback' che verrà lanciata al momento del rilascio del bottone.\n",
    "\n",
    "La funzione di callback prende un parametro che assume il valore dell'oggetto da cui è stata chiamata"
   ]
  },
  {
   "cell_type": "code",
   "execution_count": null,
   "metadata": {},
   "outputs": [],
   "source": [
    "from kivy.core.window import Window\n",
    "\n",
    "\n",
    "class PosizioneMouse(Widget):\n",
    "\n",
    "    def __init__(self, **kwargs):\n",
    "        super(PosizioneMouse, self).__init__(**kwargs)\n",
    "\n",
    "        # Posizione Mouse\n",
    "        self.posizione = Label(text='')\n",
    "        self.add_widget(self.posizione)\n",
    "        self.info_btn = Button(text=\"Mostra Posizione mouse\")\n",
    "        self.add_widget(self.info_btn)\n",
    "        self.info_btn.bind(on_press=self.update_mouse_position)\n",
    "\n",
    "    def update_mouse_position(self, btn):\n",
    "        mouse_pos = Window.mouse_pos\n",
    "        Logger.info(f'Mouse position: {mouse_pos}')\n",
    "        self.posizione.text = f'Mouse position: {mouse_pos}'"
   ]
  },
  {
   "cell_type": "code",
   "execution_count": null,
   "metadata": {},
   "outputs": [],
   "source": [
    "\n",
    "class PosizioneMouse(Widget):\n",
    "\n",
    "    def __init__(self, **kwargs):\n",
    "        super(PosizioneMouse, self).__init__(**kwargs)\n",
    "\n",
    "        # Posizione Mouse\n",
    "        self.posizione = Label(text='')\n",
    "        self.add_widget(self.posizione)\n",
    "        Clock.schedule_interval(self.update_mouse_position, 0.1)\n",
    "\n",
    "    def update_mouse_position(self, dt):\n",
    "        mouse_pos = Window.mouse_pos\n",
    "        Logger.info(f'Mouse position: {mouse_pos} (dt: {dt})')\n",
    "        self.posizione.text = f'Mouse position: {mouse_pos}\\nTime delta: {dt} seconds'"
   ]
  },
  {
   "cell_type": "markdown",
   "metadata": {},
   "source": [
    "In questo caso il parametro della fz di callback sarà il delta time del metodo di schedule_interval"
   ]
  },
  {
   "cell_type": "markdown",
   "metadata": {},
   "source": [
    "### Kv File\n",
    "\n",
    "Con kivy è possibile creare un'interfaccia grafica interamente con classi e oggetti di python, oppure è possibile usare [Kv Design Language](https://kivy.org/doc/stable/guide/lang.html) che permette di dare tutte le istruzioni per la generazione di un'interfaccia grafica da un file di testo.\n",
    "\n",
    "Si possono anche mischiare questi approcci, ovvero creare una struttura con kv design e implementare logiche più complesse da codice. \n",
    "\n",
    "Si può indicare a kivy di prendere i comandi dal file, indicando il percorso nel metodo `load_kv` della classe `App`."
   ]
  }
 ],
 "metadata": {
  "kernelspec": {
   "display_name": "Python 3",
   "language": "python",
   "name": "python3"
  },
  "language_info": {
   "codemirror_mode": {
    "name": "ipython",
    "version": 3
   },
   "file_extension": ".py",
   "mimetype": "text/x-python",
   "name": "python",
   "nbconvert_exporter": "python",
   "pygments_lexer": "ipython3",
   "version": "3.10.12"
  }
 },
 "nbformat": 4,
 "nbformat_minor": 2
}
