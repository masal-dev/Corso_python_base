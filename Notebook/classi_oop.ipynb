{
 "cells": [
  {
   "cell_type": "markdown",
   "metadata": {},
   "source": [
    "# Programmazione ad oggetti in python\n",
    "\n",
    "Essendo un moderno linguaggio di programmazione non poteva mancare il supporto al paradigma oop.\n",
    "\n",
    "In python, come abbiamo visto, tutto è un oggetto quindi proprio per sua natura è un linguaggio fortemente votato alla programmazione ad oggetti\n",
    "\n",
    "\n",
    "[**Documentazione**](https://docs.python.org/3/tutorial/classes.html)"
   ]
  },
  {
   "cell_type": "markdown",
   "metadata": {},
   "source": [
    "## Classi\n",
    "Sono delle strutture che definiscono la 'forma' che avranno gli oggetti. Ogni classe può contenere attributi e metodi. In prima approssimazione possiamo vedere gli attributi come variabili contenuti nelle classi e i metodi come funzioni contenuti nelle classi.\n",
    "\n",
    "Una delle idee fondamentali della oop è quella di rappresentare con il codice oggetti reali, ad esempio possiamo avere la classe libro che genera oggetti di tipo libro e avranno diversi autori, titoli, numero di pagine, cod isbn...\n",
    "\n",
    "La classe diventa un template che può generare diversi oggetti dello stesso **tipo**"
   ]
  },
  {
   "cell_type": "code",
   "execution_count": 20,
   "metadata": {},
   "outputs": [
    {
     "name": "stdout",
     "output_type": "stream",
     "text": [
      "Oggetto <__main__.LibroSemplice object at 0x74460c526e30> Attributo autore Isaac Asimov Attributo titolo Fondazione\n"
     ]
    },
    {
     "data": {
      "text/plain": [
       "['__class__',\n",
       " '__delattr__',\n",
       " '__dict__',\n",
       " '__dir__',\n",
       " '__doc__',\n",
       " '__eq__',\n",
       " '__format__',\n",
       " '__ge__',\n",
       " '__getattribute__',\n",
       " '__gt__',\n",
       " '__hash__',\n",
       " '__init__',\n",
       " '__init_subclass__',\n",
       " '__le__',\n",
       " '__lt__',\n",
       " '__module__',\n",
       " '__ne__',\n",
       " '__new__',\n",
       " '__reduce__',\n",
       " '__reduce_ex__',\n",
       " '__repr__',\n",
       " '__setattr__',\n",
       " '__sizeof__',\n",
       " '__str__',\n",
       " '__subclasshook__',\n",
       " '__weakref__',\n",
       " 'autore',\n",
       " 'titolo']"
      ]
     },
     "execution_count": 20,
     "metadata": {},
     "output_type": "execute_result"
    }
   ],
   "source": [
    "class LibroSemplice:\n",
    "    titolo = \"\"\n",
    "    autore = \"\"\n",
    "\n",
    "\n",
    "sci_fi = LibroSemplice()\n",
    "sci_fi.autore = \"Isaac Asimov\"\n",
    "sci_fi.titolo = \"Fondazione\"\n",
    "\n",
    "print(\"Oggetto\", sci_fi, \"Attributo autore\", sci_fi.autore, \"Attributo titolo\", sci_fi.titolo)\n",
    "dir(LibroSemplice)"
   ]
  },
  {
   "cell_type": "markdown",
   "metadata": {},
   "source": [
    "## Istanza\n",
    "Nel codice sopra ho definito una classe e ho ricavato un oggetto dalla classe.\n",
    "\n",
    "**L'operazione di creare un oggetto da una classe si dice un'istanza** quindi ho istanziato l'oggetto *sci_fi* dalla classe *Libro*.\n",
    "\n",
    "Guardando bene la sintassi noto che l'operazione di istanziare un oggetto è molto simile alla chiamata di una funzione. Questo perché python chiama in effetti una funzione per poter creare l'oggetto, **il costruttore**.\n",
    "\n",
    "Si può controllare il processo di creazione di un oggetto definendo la funzione costruttore che è ***__init__()***"
   ]
  },
  {
   "cell_type": "code",
   "execution_count": 8,
   "metadata": {},
   "outputs": [
    {
     "name": "stdout",
     "output_type": "stream",
     "text": [
      "Bye!\n"
     ]
    }
   ],
   "source": [
    "class LibroCostr:\n",
    "    \n",
    "    def __init__(self) -> None:\n",
    "        self.titolo = \"\"\n",
    "        self.autore = \"\""
   ]
  },
  {
   "cell_type": "markdown",
   "metadata": {},
   "source": [
    "## self\n",
    "\n",
    "La parola chiave con cui all'interno di una classe si fa riferimento alla classe stessa.\n",
    "\n",
    "Quindi posso dichiarare degli attributi della classe dall'interno del blocco di codice del costruttore. Inoltre essendo una funzione posso definire parametri che poi si possono usare per inizializzare gli attributi della classe"
   ]
  },
  {
   "cell_type": "code",
   "execution_count": 21,
   "metadata": {},
   "outputs": [],
   "source": [
    "class LibroCostr: \n",
    "\n",
    "    def __init__(self, titolo, autore) -> None:\n",
    "        self.attr_titolo = titolo\n",
    "        self.attr_autore = autore\n",
    "\n",
    "sci_fi = LibroCostr(\"Fondazione\", \"Asimov Isaac\")\n",
    "divulgazione = LibroCostr(autore=\"Stephen W. Hawking\", titolo=\"Dal big bang ai buchi neri\")\n"
   ]
  },
  {
   "cell_type": "markdown",
   "metadata": {},
   "source": [
    "## Dot notation\n",
    "\n",
    "Finora l'abbiamo usata adesso ci rendiamo conto meglio di come funziona.\n",
    "\n",
    "La dot notation permette di accedere agli attributi e ai metodi di una classe\n"
   ]
  },
  {
   "cell_type": "code",
   "execution_count": 22,
   "metadata": {},
   "outputs": [
    {
     "data": {
      "text/plain": [
       "'Stephen W. Hawking'"
      ]
     },
     "execution_count": 22,
     "metadata": {},
     "output_type": "execute_result"
    }
   ],
   "source": [
    "divulgazione.attr_autore"
   ]
  },
  {
   "cell_type": "markdown",
   "metadata": {},
   "source": [
    "## Metodi\n",
    "\n",
    "Le funzioni dentro le classi\n"
   ]
  },
  {
   "cell_type": "code",
   "execution_count": 4,
   "metadata": {},
   "outputs": [
    {
     "name": "stdout",
     "output_type": "stream",
     "text": [
      "None\n"
     ]
    }
   ],
   "source": [
    "from datetime import date, timedelta\n",
    "\n",
    "class Prestabile:\n",
    "    \n",
    "    def __init__(self, disponibile=True, t_prestito: timedelta=timedelta(days=31), numero_proroghe=1):\n",
    "        self.disponibile = disponibile\n",
    "        self.t_prestito = t_prestito\n",
    "        self.num_proroghe = numero_proroghe\n",
    "        self.prestato_il = None\n",
    "        self.rientro__il = None\n",
    "\n",
    "\n",
    "    def esce_prestito(self):\n",
    "        if (self.disponibile):\n",
    "            self.disponibile = False\n",
    "            self.prestato_il = date.today()\n",
    "            self.rientro_il = self.prestato_il + self.t_prestito\n",
    "            \n",
    "        else:\n",
    "            raise Exception(f\"La risorsa non è disponibile rientra il {self.rientro_il.strftime('%d/%m/%Y')}\")\n",
    "        \n",
    "    def proroga(self):\n",
    "        if self.num_proroghe > 0:\n",
    "            self.rientro_il += self.t_prestito\n",
    "            self.num_proroghe -= 1\n",
    "        else:\n",
    "            raise Exception(f\"Raggiunto il numero massimo di proroghe\")\n",
    "\n",
    "\n",
    "risorsa1 = Prestabile()\n",
    "# risorsa1.disponibile\n",
    "print(risorsa1.prestato_il)\n",
    "\n",
    "# risorsa1.t_prestito"
   ]
  },
  {
   "cell_type": "code",
   "execution_count": 5,
   "metadata": {},
   "outputs": [
    {
     "data": {
      "text/plain": [
       "datetime.date(2024, 6, 30)"
      ]
     },
     "execution_count": 5,
     "metadata": {},
     "output_type": "execute_result"
    }
   ],
   "source": [
    "risorsa1.esce_prestito()\n",
    "risorsa1.rientro_il\n",
    "# risorsa1._aggiorna_date()\n",
    "# risorsa1.rientro_il\n"
   ]
  },
  {
   "cell_type": "code",
   "execution_count": 6,
   "metadata": {},
   "outputs": [
    {
     "name": "stdout",
     "output_type": "stream",
     "text": [
      "disponibile False rientro_il 2024-06-30 prestato_il 2024-05-30\n",
      "nuovo rientro 2024-07-31\n"
     ]
    }
   ],
   "source": [
    "risorsa2 = Prestabile()\n",
    "risorsa2.esce_prestito()\n",
    "print(\"disponibile\", risorsa2.disponibile, \"rientro_il\", risorsa2.rientro_il, \"prestato_il\", risorsa2.prestato_il)\n",
    "risorsa2.proroga()\n",
    "print(\"nuovo rientro\", risorsa2.rientro_il)"
   ]
  },
  {
   "cell_type": "markdown",
   "metadata": {},
   "source": [
    "La classe Prestabile ha una serie di attributi e metodi che possiamo utilizzare per compiere operazioni sull'oggetto"
   ]
  },
  {
   "cell_type": "markdown",
   "metadata": {},
   "source": [
    "## Ereditarietà\n",
    "\n",
    "La classe libro potrebbe beneficiare delle funzionalità della classe prestabili. Potremmo quindi riprendere alcuni pezzi di Prestabili e utilizzarli dentro Libro.\n",
    "\n",
    "Se poi volessimo definire anche la risorsa Dvd sempre come elemento prestabile, dovremmo riprendere nuovamente il codice di prestabile e integrarlo in Dvd.\n",
    "\n",
    "Anziché fare copia e incolla possiamo riutilizzare il codice tramite l'ereditarietà. Ovvero quel meccanismo per cui una classe \"nasce\" dalla base di un'altra classe e ne riprende metodi e attributi\n"
   ]
  },
  {
   "cell_type": "code",
   "execution_count": 70,
   "metadata": {},
   "outputs": [],
   "source": [
    "from datetime import timedelta\n",
    "\n",
    "\n",
    "class Libro(Prestabile):\n",
    "    def __init__(self, titolo, autore, disponibile=True, t_prestito: timedelta = timedelta(days=31), proroghe=1):\n",
    "        super().__init__(disponibile, t_prestito, proroghe)\n",
    "\n",
    "        self.titolo = titolo\n",
    "        self.autore = autore\n",
    "    \n",
    "libro1 = Libro(titolo=\"Il fu Mattia Pascal\", autore=\"Pirandello Luigi\")"
   ]
  },
  {
   "cell_type": "code",
   "execution_count": 71,
   "metadata": {},
   "outputs": [
    {
     "data": {
      "text/plain": [
       "True"
      ]
     },
     "execution_count": 71,
     "metadata": {},
     "output_type": "execute_result"
    }
   ],
   "source": [
    "libro1.disponibile"
   ]
  },
  {
   "cell_type": "markdown",
   "metadata": {},
   "source": [
    "## Private o non Private\n",
    "\n",
    "La [documentazione di python](https://docs.python.org/3/tutorial/classes.html#private-variables) è chiara su questo punto: *\" “Private” instance variables that cannot be accessed except from inside an object don’t exist in Python\"* quindi non esistono variabili private in python. Questo è evidentemente un limite nell'implementazione del paradigma **oop**.\n",
    "\n",
    "Tuttavia nella riga successiva della documentazione viene riportato l'uso consueto di utilizzare la notazione delle variabili riservate di python (quelle con il *dundeer*) per definire attributi e metodi privati"
   ]
  },
  {
   "cell_type": "code",
   "execution_count": null,
   "metadata": {},
   "outputs": [],
   "source": []
  },
  {
   "cell_type": "markdown",
   "metadata": {},
   "source": [
    "## Getter Setter \n",
    "\n",
    "Esiste anche la possibilità di implementare get e set per le classi, tuttavia non sono la via più pitonica in quanto l'idea delle classi di python è quella di mantenere tutto il più semplice possibile (quindi usare solo la dot notation).\n",
    "\n",
    "Tuttavia per non creare limiti troppo pesanti sono stati creati dei modi per implementare anche questo tipo di funzionalità"
   ]
  },
  {
   "cell_type": "code",
   "execution_count": 87,
   "metadata": {},
   "outputs": [],
   "source": [
    "class PrestabiliAlternativo:\n",
    "\n",
    "    def __init__(self, disponibile=True, num_proroghe=1, t_prestito= timedelta(days=31)) -> None:\n",
    "        self.disponibile = disponibile\n",
    "        self._prestato_il = 0\n",
    "        self.t_prestito = t_prestito\n",
    "        if self.disponibile:\n",
    "            self._rientra_il = 0\n",
    "        else:\n",
    "            self._rientra_il = date.today() + self.t_prestito\n",
    "    \n",
    "    @property\n",
    "    def prestato_il(self):\n",
    "        self._prestato_il\n",
    "\n",
    "    @prestato_il.setter\n",
    "    def prestato_il(self, data: date= date.today()):\n",
    "        self._prestato_il = data\n",
    "        self.disponibile = False\n",
    "        "
   ]
  },
  {
   "cell_type": "code",
   "execution_count": 90,
   "metadata": {},
   "outputs": [
    {
     "data": {
      "text/plain": [
       "datetime.date(2024, 5, 30)"
      ]
     },
     "execution_count": 90,
     "metadata": {},
     "output_type": "execute_result"
    }
   ],
   "source": [
    "test = PrestabiliAlternativo()\n",
    "test.prestato_il = date.today()\n",
    "test.prestato_il \n"
   ]
  },
  {
   "cell_type": "markdown",
   "metadata": {},
   "source": [
    "### Altro\n",
    "\n",
    "#### __str__()\n",
    "Definisce cosa ritornare sotto forma di stringa ogni volta che l'oggetto viene trattato come stringa esempio print\n"
   ]
  },
  {
   "cell_type": "code",
   "execution_count": 93,
   "metadata": {},
   "outputs": [
    {
     "name": "stdout",
     "output_type": "stream",
     "text": [
      "Ciao sono Pietro Grigolo, piacere di conoscerti\n"
     ]
    }
   ],
   "source": [
    "class Persona:\n",
    "\n",
    "    def __init__(self, nome, cognome) -> None:\n",
    "        self.nome = nome\n",
    "        self.cognome = cognome\n",
    "\n",
    "    def __str__(self) -> str:\n",
    "        return f\"Ciao sono {self.nome} {self.cognome}, piacere di conoscerti\"\n",
    "    \n",
    "io = Persona(nome=\"Pietro\", cognome=\"Grigolo\")\n",
    "io\n",
    "# print(io)"
   ]
  }
 ],
 "metadata": {
  "kernelspec": {
   "display_name": "Python 3",
   "language": "python",
   "name": "python3"
  },
  "language_info": {
   "codemirror_mode": {
    "name": "ipython",
    "version": 3
   },
   "file_extension": ".py",
   "mimetype": "text/x-python",
   "name": "python",
   "nbconvert_exporter": "python",
   "pygments_lexer": "ipython3",
   "version": "3.10.12"
  }
 },
 "nbformat": 4,
 "nbformat_minor": 2
}
